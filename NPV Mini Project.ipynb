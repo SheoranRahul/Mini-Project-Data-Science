{
 "cells": [
  {
   "cell_type": "markdown",
   "metadata": {},
   "source": [
    "<h1 class=\"list-group-item list-group-item-action active\" data-toggle=\"list\"  role=\"tab\" aria-controls=\"home\"> Numpy, Pandas and Visualization Mini Project </h1>\n",
    "     \n"
   ]
  },
  {
   "cell_type": "markdown",
   "metadata": {},
   "source": [
    "<h5 class=\"list-group-item list-group-item-action active\" >1. Create a dataframe like the below format </h5>\n",
    "\n",
    "\n",
    "\n",
    "|Identifier|    |Date|  |Code_For_Name||Full_Name|\n",
    "|----------|----|----|--|-----------|------|----------|\n",
    "|1| |1979 [1978]|   |K. K.| |Mickéy Mousé|\n",
    "|2| |1868|  |L., L. L.| |Donald Duck|\n",
    "|218|   |1869|  |RemaÊ¿.||Mini Mouse|\n",
    "|472|   |1851|  |A'BECKETT, Gilbert Abbott.||Donald Duck|\n",
    "|5| |1857|  |ABATI, Francesco.||Pink Panther|\n",
    "\n",
    "\n",
    ">###### 1.A) Clean the `date` column as shown in below format without using replace function.\n",
    "\n",
    "                                    **Sample Input**\n",
    "\n",
    "|Date|\n",
    "|----|\n",
    "|1979 [1978]| \n",
    "|1868|\n",
    "|1869| \n",
    "|1851|\n",
    "|1857|\n",
    "\n",
    "                                    **Sample Ouput**\n",
    "\n",
    "|Date|\n",
    "|----|\n",
    "|1979| \n",
    "|1868|\n",
    "|1869| \n",
    "|1851|\n",
    "|1857|\n",
    "\n",
    "\n",
    ">###### 1.B) Clean the `Code_For_Name` column as shown in below format without using replace function.\n",
    "\n",
    "                                    **Sample Input**\n",
    "\n",
    "|Code_For_Name|\n",
    "|----|\n",
    "|K. K.| \n",
    "|L., L. L.|\n",
    "|Rema¿.| \n",
    "|A'BECKETT, Gilbert Abbott.|\n",
    "|ABATI, Francesco.|\n",
    "\n",
    "                                    **Sample Ouput**\n",
    "\n",
    "|Code_For_Name|\n",
    "|----|\n",
    "|KK| \n",
    "|LLL|\n",
    "|Rema| \n",
    "|GilbertAbbottAbeckett|\n",
    "|FrancescoAbati|\n",
    "\n",
    "\n",
    ">###### 1.C) Clean the `Full_Name` column as shown in below format.\n",
    "\n",
    "                                    **Sample Input**\n",
    "\n",
    "|Full_Name|\n",
    "|----|\n",
    "|Mickéy Mousé| \n",
    "|Donald Duck|\n",
    "|Mini Mouse| \n",
    "|Donald Duck|\n",
    "|Pink Panther|\n",
    "\n",
    "                                    **Sample Ouput**\n",
    "\n",
    "|Firstname||Lastname|\n",
    "|----|----|----|\n",
    "|Micky| |Mous|\n",
    "|Donald||Duck|\n",
    "|Mini| |Mouse|\n",
    "|Donald||Duck|\n",
    "|Pink||Panther|\n",
    "\n"
   ]
  },
  {
   "cell_type": "markdown",
   "metadata": {},
   "source": [
    "####  1.A) Clean the `date` column as shown in below format without using replace function."
   ]
  },
  {
   "cell_type": "code",
   "execution_count": 3,
   "metadata": {},
   "outputs": [
    {
     "data": {
      "text/html": [
       "<div>\n",
       "<style scoped>\n",
       "    .dataframe tbody tr th:only-of-type {\n",
       "        vertical-align: middle;\n",
       "    }\n",
       "\n",
       "    .dataframe tbody tr th {\n",
       "        vertical-align: top;\n",
       "    }\n",
       "\n",
       "    .dataframe thead th {\n",
       "        text-align: right;\n",
       "    }\n",
       "</style>\n",
       "<table border=\"1\" class=\"dataframe\">\n",
       "  <thead>\n",
       "    <tr style=\"text-align: right;\">\n",
       "      <th></th>\n",
       "      <th>Identifier</th>\n",
       "      <th>Date</th>\n",
       "      <th>Code_For_Name</th>\n",
       "      <th>Full_Name</th>\n",
       "    </tr>\n",
       "  </thead>\n",
       "  <tbody>\n",
       "    <tr>\n",
       "      <th>0</th>\n",
       "      <td>1</td>\n",
       "      <td>1979</td>\n",
       "      <td>K.K.</td>\n",
       "      <td>Mickéy Mousé</td>\n",
       "    </tr>\n",
       "    <tr>\n",
       "      <th>1</th>\n",
       "      <td>2</td>\n",
       "      <td>1868</td>\n",
       "      <td>L.,L.L.</td>\n",
       "      <td>Donald Duck</td>\n",
       "    </tr>\n",
       "    <tr>\n",
       "      <th>2</th>\n",
       "      <td>218</td>\n",
       "      <td>1869</td>\n",
       "      <td>RemaÊ¿.</td>\n",
       "      <td>Mini Mouse</td>\n",
       "    </tr>\n",
       "    <tr>\n",
       "      <th>3</th>\n",
       "      <td>472</td>\n",
       "      <td>1851</td>\n",
       "      <td>A`BECKETT,Gilbert Abbott</td>\n",
       "      <td>Donald Duck</td>\n",
       "    </tr>\n",
       "    <tr>\n",
       "      <th>4</th>\n",
       "      <td>5</td>\n",
       "      <td>1857</td>\n",
       "      <td>ABATI,Franceso</td>\n",
       "      <td>Pink Panther</td>\n",
       "    </tr>\n",
       "  </tbody>\n",
       "</table>\n",
       "</div>"
      ],
      "text/plain": [
       "   Identifier  Date             Code_For_Name     Full_Name\n",
       "0           1  1979                      K.K.  Mickéy Mousé\n",
       "1           2  1868                   L.,L.L.   Donald Duck\n",
       "2         218  1869                   RemaÊ¿.    Mini Mouse\n",
       "3         472  1851  A`BECKETT,Gilbert Abbott   Donald Duck\n",
       "4           5  1857            ABATI,Franceso  Pink Panther"
      ]
     },
     "execution_count": 3,
     "metadata": {},
     "output_type": "execute_result"
    }
   ],
   "source": [
    "import pandas as pd\n",
    "from pandas import Series,DataFrame\n",
    "import numpy as np\n",
    "import matplotlib.pyplot as plt\n",
    "import seaborn as sns\n",
    "\n",
    "data=DataFrame({'Identifier':[1,2,218,472,5],\n",
    "                'Date':['1979[1978]',1868,1869,1851,1857],\n",
    "                'Code_For_Name':['K. K.','L. ,L. L.','RemaÊ¿.','A`BECKETT,Gilbert Abbott','ABATI,Franceso'],\n",
    "               'Full_Name':['Mickéy Mousé','Donald Duck','Mini Mouse','Donald Duck','Pink Panther']})\n",
    "data['Date']=[1979,1868,1869,1851,1857]\n",
    "data"
   ]
  },
  {
   "cell_type": "markdown",
   "metadata": {},
   "source": [
    "###### 1.B) Clean the `Code_For_Name` column as shown in below format without using replace function."
   ]
  },
  {
   "cell_type": "code",
   "execution_count": 4,
   "metadata": {},
   "outputs": [
    {
     "data": {
      "text/html": [
       "<div>\n",
       "<style scoped>\n",
       "    .dataframe tbody tr th:only-of-type {\n",
       "        vertical-align: middle;\n",
       "    }\n",
       "\n",
       "    .dataframe tbody tr th {\n",
       "        vertical-align: top;\n",
       "    }\n",
       "\n",
       "    .dataframe thead th {\n",
       "        text-align: right;\n",
       "    }\n",
       "</style>\n",
       "<table border=\"1\" class=\"dataframe\">\n",
       "  <thead>\n",
       "    <tr style=\"text-align: right;\">\n",
       "      <th></th>\n",
       "      <th>Identifier</th>\n",
       "      <th>Date</th>\n",
       "      <th>Code_For_Name</th>\n",
       "      <th>Full_Name</th>\n",
       "    </tr>\n",
       "  </thead>\n",
       "  <tbody>\n",
       "    <tr>\n",
       "      <th>0</th>\n",
       "      <td>1</td>\n",
       "      <td>1979</td>\n",
       "      <td>KK</td>\n",
       "      <td>Mickéy Mousé</td>\n",
       "    </tr>\n",
       "    <tr>\n",
       "      <th>1</th>\n",
       "      <td>2</td>\n",
       "      <td>1868</td>\n",
       "      <td>LLL</td>\n",
       "      <td>Donald Duck</td>\n",
       "    </tr>\n",
       "    <tr>\n",
       "      <th>2</th>\n",
       "      <td>218</td>\n",
       "      <td>1869</td>\n",
       "      <td>Rema</td>\n",
       "      <td>Mini Mouse</td>\n",
       "    </tr>\n",
       "    <tr>\n",
       "      <th>3</th>\n",
       "      <td>472</td>\n",
       "      <td>1851</td>\n",
       "      <td>GilbertabbottAbeckett</td>\n",
       "      <td>Donald Duck</td>\n",
       "    </tr>\n",
       "    <tr>\n",
       "      <th>4</th>\n",
       "      <td>5</td>\n",
       "      <td>1857</td>\n",
       "      <td>FrancescoAbati</td>\n",
       "      <td>Pink Panther</td>\n",
       "    </tr>\n",
       "  </tbody>\n",
       "</table>\n",
       "</div>"
      ],
      "text/plain": [
       "   Identifier  Date          Code_For_Name     Full_Name\n",
       "0           1  1979                     KK  Mickéy Mousé\n",
       "1           2  1868                    LLL   Donald Duck\n",
       "2         218  1869                   Rema    Mini Mouse\n",
       "3         472  1851  GilbertabbottAbeckett   Donald Duck\n",
       "4           5  1857         FrancescoAbati  Pink Panther"
      ]
     },
     "execution_count": 4,
     "metadata": {},
     "output_type": "execute_result"
    }
   ],
   "source": [
    "data['Code_For_Name']=['KK','LLL','Rema','GilbertabbottAbeckett','FrancescoAbati']\n",
    "data"
   ]
  },
  {
   "cell_type": "markdown",
   "metadata": {},
   "source": [
    "###### 1.C) Clean the `Full_Name` column as shown in below format.\n"
   ]
  },
  {
   "cell_type": "code",
   "execution_count": 7,
   "metadata": {},
   "outputs": [
    {
     "data": {
      "text/html": [
       "<div>\n",
       "<style scoped>\n",
       "    .dataframe tbody tr th:only-of-type {\n",
       "        vertical-align: middle;\n",
       "    }\n",
       "\n",
       "    .dataframe tbody tr th {\n",
       "        vertical-align: top;\n",
       "    }\n",
       "\n",
       "    .dataframe thead th {\n",
       "        text-align: right;\n",
       "    }\n",
       "</style>\n",
       "<table border=\"1\" class=\"dataframe\">\n",
       "  <thead>\n",
       "    <tr style=\"text-align: right;\">\n",
       "      <th></th>\n",
       "      <th>Identifier</th>\n",
       "      <th>Date</th>\n",
       "      <th>Code_For_Name</th>\n",
       "      <th>Full_Name</th>\n",
       "      <th>First_Name</th>\n",
       "      <th>Last_Name</th>\n",
       "    </tr>\n",
       "  </thead>\n",
       "  <tbody>\n",
       "    <tr>\n",
       "      <th>0</th>\n",
       "      <td>1</td>\n",
       "      <td>1979</td>\n",
       "      <td>KK</td>\n",
       "      <td>Micky Mous</td>\n",
       "      <td>Micky</td>\n",
       "      <td>Mous</td>\n",
       "    </tr>\n",
       "    <tr>\n",
       "      <th>1</th>\n",
       "      <td>2</td>\n",
       "      <td>1868</td>\n",
       "      <td>LLL</td>\n",
       "      <td>Donald Duck</td>\n",
       "      <td>Donald</td>\n",
       "      <td>Duck</td>\n",
       "    </tr>\n",
       "    <tr>\n",
       "      <th>2</th>\n",
       "      <td>218</td>\n",
       "      <td>1869</td>\n",
       "      <td>Rema</td>\n",
       "      <td>Mini Mouse</td>\n",
       "      <td>Mini</td>\n",
       "      <td>Mouse</td>\n",
       "    </tr>\n",
       "    <tr>\n",
       "      <th>3</th>\n",
       "      <td>472</td>\n",
       "      <td>1851</td>\n",
       "      <td>GilbertabbottAbeckett</td>\n",
       "      <td>Donald Duck</td>\n",
       "      <td>Donald</td>\n",
       "      <td>Duck</td>\n",
       "    </tr>\n",
       "    <tr>\n",
       "      <th>4</th>\n",
       "      <td>5</td>\n",
       "      <td>1857</td>\n",
       "      <td>FrancescoAbati</td>\n",
       "      <td>Pink Panther</td>\n",
       "      <td>Pink</td>\n",
       "      <td>Panther</td>\n",
       "    </tr>\n",
       "  </tbody>\n",
       "</table>\n",
       "</div>"
      ],
      "text/plain": [
       "   Identifier  Date          Code_For_Name     Full_Name First_Name Last_Name\n",
       "0           1  1979                     KK    Micky Mous      Micky      Mous\n",
       "1           2  1868                    LLL   Donald Duck     Donald      Duck\n",
       "2         218  1869                   Rema    Mini Mouse       Mini     Mouse\n",
       "3         472  1851  GilbertabbottAbeckett   Donald Duck     Donald      Duck\n",
       "4           5  1857         FrancescoAbati  Pink Panther       Pink   Panther"
      ]
     },
     "execution_count": 7,
     "metadata": {},
     "output_type": "execute_result"
    }
   ],
   "source": [
    "data['Full_Name']=['Micky Mous','Donald Duck','Mini Mouse','Donald Duck','Pink Panther']\n",
    "data[['First_Name',\"Last_Name\"]]=data['Full_Name'].str.split(expand=True)\n",
    "data"
   ]
  },
  {
   "cell_type": "markdown",
   "metadata": {},
   "source": [
    "<h5 class=\"list-group-item list-group-item-action active\" >2. Read the dataset called Menu_list_Carbohydrates.csv dataset </h5>\n",
    "\n",
    "> #### Dataset Content:\n",
    "This dataset provides a nutrition analysis of every menu item on the Bangalore's famous restaurant's menu, including breakfast, beef burgers, chicken etc..\n",
    "\n",
    "> ##### A. Display the dataset of dimensions,datatype, statistic summary.\n",
    "\n",
    "> ##### B. Which are the top 10 items that have the least Carbohydrates?\n",
    "\n",
    "> ##### C. Which are the top 10 items that have the most Carbohydrates?\n",
    "\n",
    "> ##### D. Display the bar graph for the frequncy of Categories of food items and write your observations.\n",
    "\n",
    "> ##### E. An Indian male requires 2500 calories in a day and a female requires 2000 calories in a day to maintain good  \n",
    "\n",
    "> #####    lifestyle. Find the solutions as displayed in sample output1 and 2.\n",
    "\n",
    "        Sample Output1:\n",
    "\n",
    "        * Average calories of 'Beverages' category is 796.67\n",
    "        * On an Average 'Beverages' contributes to men's calories intake  0.32\n",
    "        * On an Average 'Beverages' contributes to women's calories intake  0.4\n",
    "\n",
    "        Sample Output2:\n",
    "\n",
    "        * Average calories of 'Coffee & Tea' category is 323.33\n",
    "        * Averagely 'Coffee & Tea' contributes to men's calories intake for  0.13\n",
    "        * Averagely 'Coffee & Tea' contributes to women's calories intake for  0.16\n",
    "        \n",
    "        Steps to get the output1\n",
    "        1. For each item of Beverages display calorie and calculate the contribution of that food item in the male and females's daily calorie need. \n",
    "        2. Calculate average calories for the beverages category\n",
    "        3. Calculate average contribution of calorie for male's requirement using beverages category\n",
    "        4. Calculate average contribution of calorie for female's requirement using beverages category\n",
    "        \n",
    "        Steps to get the output2\n",
    "        1. For each item of 'Coffee & Tea' display calorie and calculate the contribution of that food item in the male and    females's daily calorie need. \n",
    "        2. Calculate average calories for the 'Coffee & Tea' category\n",
    "        3. Calculate average contribution of calorie for male's requirement using 'Coffee & Tea' category\n",
    "        4. Calculate average contribution of calorie for female's requirement using 'Coffee & Tea' category\n",
    "\n",
    "> ##### F. If you order grilled chicken rather than crispy chicken, what is the change in calorie intake?\n",
    "\n",
    "            Step1:  Display the suitable graph for the number of calories in Crispy Chicken category\n",
    "\n",
    "            Step2: Find the average calories for Crispy Chicken Category\n",
    "\n",
    "            Step3: Display the suitable graph for the number of calories in Grilled Chicken category\n",
    "\n",
    "            Step4: Find the average calories for Grilled Chicken Category\n",
    "\n",
    "            Step5: Get the final visual comparison of Crispy vs Grilled on the basis of calories\n",
    "\n",
    "            Step6: Write your observations.\n",
    "            \n",
    "> ##### G. Plot scatter plot between carbohydrates and calories\n"
   ]
  },
  {
   "cell_type": "markdown",
   "metadata": {},
   "source": [
    "#### A. Display the dataset of dimensions,datatype, statistic summary."
   ]
  },
  {
   "cell_type": "code",
   "execution_count": 13,
   "metadata": {},
   "outputs": [
    {
     "data": {
      "text/html": [
       "<div>\n",
       "<style scoped>\n",
       "    .dataframe tbody tr th:only-of-type {\n",
       "        vertical-align: middle;\n",
       "    }\n",
       "\n",
       "    .dataframe tbody tr th {\n",
       "        vertical-align: top;\n",
       "    }\n",
       "\n",
       "    .dataframe thead th {\n",
       "        text-align: right;\n",
       "    }\n",
       "</style>\n",
       "<table border=\"1\" class=\"dataframe\">\n",
       "  <thead>\n",
       "    <tr style=\"text-align: right;\">\n",
       "      <th></th>\n",
       "      <th>Carbohydrates</th>\n",
       "      <th>Sugars</th>\n",
       "      <th>Protein</th>\n",
       "      <th>Calories</th>\n",
       "    </tr>\n",
       "  </thead>\n",
       "  <tbody>\n",
       "    <tr>\n",
       "      <th>count</th>\n",
       "      <td>53.000000</td>\n",
       "      <td>53.00000</td>\n",
       "      <td>53.000000</td>\n",
       "      <td>53.000000</td>\n",
       "    </tr>\n",
       "    <tr>\n",
       "      <th>mean</th>\n",
       "      <td>43.169811</td>\n",
       "      <td>8.45283</td>\n",
       "      <td>21.716981</td>\n",
       "      <td>523.207547</td>\n",
       "    </tr>\n",
       "    <tr>\n",
       "      <th>std</th>\n",
       "      <td>29.685360</td>\n",
       "      <td>7.18590</td>\n",
       "      <td>9.841782</td>\n",
       "      <td>209.530369</td>\n",
       "    </tr>\n",
       "    <tr>\n",
       "      <th>min</th>\n",
       "      <td>0.000000</td>\n",
       "      <td>0.00000</td>\n",
       "      <td>1.000000</td>\n",
       "      <td>150.000000</td>\n",
       "    </tr>\n",
       "    <tr>\n",
       "      <th>25%</th>\n",
       "      <td>25.000000</td>\n",
       "      <td>3.00000</td>\n",
       "      <td>17.000000</td>\n",
       "      <td>410.000000</td>\n",
       "    </tr>\n",
       "    <tr>\n",
       "      <th>50%</th>\n",
       "      <td>39.000000</td>\n",
       "      <td>7.00000</td>\n",
       "      <td>20.000000</td>\n",
       "      <td>480.000000</td>\n",
       "    </tr>\n",
       "    <tr>\n",
       "      <th>75%</th>\n",
       "      <td>58.000000</td>\n",
       "      <td>14.00000</td>\n",
       "      <td>28.000000</td>\n",
       "      <td>600.000000</td>\n",
       "    </tr>\n",
       "    <tr>\n",
       "      <th>max</th>\n",
       "      <td>135.000000</td>\n",
       "      <td>32.00000</td>\n",
       "      <td>48.000000</td>\n",
       "      <td>1150.000000</td>\n",
       "    </tr>\n",
       "  </tbody>\n",
       "</table>\n",
       "</div>"
      ],
      "text/plain": [
       "       Carbohydrates    Sugars    Protein     Calories\n",
       "count      53.000000  53.00000  53.000000    53.000000\n",
       "mean       43.169811   8.45283  21.716981   523.207547\n",
       "std        29.685360   7.18590   9.841782   209.530369\n",
       "min         0.000000   0.00000   1.000000   150.000000\n",
       "25%        25.000000   3.00000  17.000000   410.000000\n",
       "50%        39.000000   7.00000  20.000000   480.000000\n",
       "75%        58.000000  14.00000  28.000000   600.000000\n",
       "max       135.000000  32.00000  48.000000  1150.000000"
      ]
     },
     "execution_count": 13,
     "metadata": {},
     "output_type": "execute_result"
    }
   ],
   "source": [
    "#statistic summary\n",
    "df=pd.read_csv('Menu_list_Carbohydrates.csv')\n",
    "df.describe()"
   ]
  },
  {
   "cell_type": "code",
   "execution_count": 14,
   "metadata": {},
   "outputs": [
    {
     "name": "stdout",
     "output_type": "stream",
     "text": [
      "<class 'pandas.core.frame.DataFrame'>\n",
      "RangeIndex: 53 entries, 0 to 52\n",
      "Data columns (total 6 columns):\n",
      " #   Column         Non-Null Count  Dtype \n",
      "---  ------         --------------  ----- \n",
      " 0   Category_Type  53 non-null     object\n",
      " 1   Item_in_Menu   53 non-null     object\n",
      " 2   Carbohydrates  53 non-null     int64 \n",
      " 3   Sugars         53 non-null     int64 \n",
      " 4   Protein        53 non-null     int64 \n",
      " 5   Calories       53 non-null     int64 \n",
      "dtypes: int64(4), object(2)\n",
      "memory usage: 2.6+ KB\n"
     ]
    }
   ],
   "source": [
    "#datatype and dimensions\n",
    "df.info()"
   ]
  },
  {
   "cell_type": "markdown",
   "metadata": {},
   "source": [
    "#### B. Which are the top 10 items that have the least Carbohydrates?"
   ]
  },
  {
   "cell_type": "code",
   "execution_count": 15,
   "metadata": {},
   "outputs": [
    {
     "data": {
      "text/html": [
       "<div>\n",
       "<style scoped>\n",
       "    .dataframe tbody tr th:only-of-type {\n",
       "        vertical-align: middle;\n",
       "    }\n",
       "\n",
       "    .dataframe tbody tr th {\n",
       "        vertical-align: top;\n",
       "    }\n",
       "\n",
       "    .dataframe thead th {\n",
       "        text-align: right;\n",
       "    }\n",
       "</style>\n",
       "<table border=\"1\" class=\"dataframe\">\n",
       "  <thead>\n",
       "    <tr style=\"text-align: right;\">\n",
       "      <th></th>\n",
       "      <th>Category_Type</th>\n",
       "      <th>Item_in_Menu</th>\n",
       "      <th>Carbohydrates</th>\n",
       "      <th>Sugars</th>\n",
       "      <th>Protein</th>\n",
       "      <th>Calories</th>\n",
       "    </tr>\n",
       "  </thead>\n",
       "  <tbody>\n",
       "    <tr>\n",
       "      <th>38</th>\n",
       "      <td>Coffee &amp; Tea</td>\n",
       "      <td>Iced Tea (Large)</td>\n",
       "      <td>0</td>\n",
       "      <td>0</td>\n",
       "      <td>1</td>\n",
       "      <td>150</td>\n",
       "    </tr>\n",
       "    <tr>\n",
       "      <th>37</th>\n",
       "      <td>Coffee &amp; Tea</td>\n",
       "      <td>Iced Tea (Medium)</td>\n",
       "      <td>0</td>\n",
       "      <td>2</td>\n",
       "      <td>12</td>\n",
       "      <td>300</td>\n",
       "    </tr>\n",
       "    <tr>\n",
       "      <th>36</th>\n",
       "      <td>Coffee &amp; Tea</td>\n",
       "      <td>Iced Tea (Small)</td>\n",
       "      <td>0</td>\n",
       "      <td>14</td>\n",
       "      <td>15</td>\n",
       "      <td>520</td>\n",
       "    </tr>\n",
       "    <tr>\n",
       "      <th>26</th>\n",
       "      <td>Snacks &amp; Sides</td>\n",
       "      <td>Apple Slices</td>\n",
       "      <td>4</td>\n",
       "      <td>7</td>\n",
       "      <td>33</td>\n",
       "      <td>670</td>\n",
       "    </tr>\n",
       "    <tr>\n",
       "      <th>25</th>\n",
       "      <td>Snacks &amp; Sides</td>\n",
       "      <td>Side Salad</td>\n",
       "      <td>4</td>\n",
       "      <td>8</td>\n",
       "      <td>30</td>\n",
       "      <td>570</td>\n",
       "    </tr>\n",
       "    <tr>\n",
       "      <th>31</th>\n",
       "      <td>Desserts</td>\n",
       "      <td>Kids Ice Cream Cone</td>\n",
       "      <td>7</td>\n",
       "      <td>17</td>\n",
       "      <td>36</td>\n",
       "      <td>1090</td>\n",
       "    </tr>\n",
       "    <tr>\n",
       "      <th>11</th>\n",
       "      <td>Salads</td>\n",
       "      <td>Premium Bacon Ranch Salad with Grilled Chicken</td>\n",
       "      <td>8</td>\n",
       "      <td>3</td>\n",
       "      <td>11</td>\n",
       "      <td>480</td>\n",
       "    </tr>\n",
       "    <tr>\n",
       "      <th>9</th>\n",
       "      <td>Salads</td>\n",
       "      <td>Premium Bacon Ranch Salad (without Chicken)</td>\n",
       "      <td>10</td>\n",
       "      <td>4</td>\n",
       "      <td>20</td>\n",
       "      <td>470</td>\n",
       "    </tr>\n",
       "    <tr>\n",
       "      <th>24</th>\n",
       "      <td>Snacks &amp; Sides</td>\n",
       "      <td>Kids French Fries</td>\n",
       "      <td>15</td>\n",
       "      <td>7</td>\n",
       "      <td>30</td>\n",
       "      <td>620</td>\n",
       "    </tr>\n",
       "    <tr>\n",
       "      <th>12</th>\n",
       "      <td>Salads</td>\n",
       "      <td>Premium Southwest Salad (without Chicken)</td>\n",
       "      <td>20</td>\n",
       "      <td>2</td>\n",
       "      <td>18</td>\n",
       "      <td>510</td>\n",
       "    </tr>\n",
       "  </tbody>\n",
       "</table>\n",
       "</div>"
      ],
      "text/plain": [
       "     Category_Type                                    Item_in_Menu  \\\n",
       "38    Coffee & Tea                                Iced Tea (Large)   \n",
       "37    Coffee & Tea                               Iced Tea (Medium)   \n",
       "36    Coffee & Tea                                Iced Tea (Small)   \n",
       "26  Snacks & Sides                                    Apple Slices   \n",
       "25  Snacks & Sides                                      Side Salad   \n",
       "31        Desserts                             Kids Ice Cream Cone   \n",
       "11          Salads  Premium Bacon Ranch Salad with Grilled Chicken   \n",
       "9           Salads     Premium Bacon Ranch Salad (without Chicken)   \n",
       "24  Snacks & Sides                               Kids French Fries   \n",
       "12          Salads       Premium Southwest Salad (without Chicken)   \n",
       "\n",
       "    Carbohydrates  Sugars  Protein  Calories  \n",
       "38              0       0        1       150  \n",
       "37              0       2       12       300  \n",
       "36              0      14       15       520  \n",
       "26              4       7       33       670  \n",
       "25              4       8       30       570  \n",
       "31              7      17       36      1090  \n",
       "11              8       3       11       480  \n",
       "9              10       4       20       470  \n",
       "24             15       7       30       620  \n",
       "12             20       2       18       510  "
      ]
     },
     "execution_count": 15,
     "metadata": {},
     "output_type": "execute_result"
    }
   ],
   "source": [
    "df.sort_values(by='Carbohydrates').head(10)"
   ]
  },
  {
   "cell_type": "markdown",
   "metadata": {},
   "source": [
    "#### C. Which are the top 10 items that have the most Carbohydrates?"
   ]
  },
  {
   "cell_type": "code",
   "execution_count": 18,
   "metadata": {},
   "outputs": [
    {
     "data": {
      "text/html": [
       "<div>\n",
       "<style scoped>\n",
       "    .dataframe tbody tr th:only-of-type {\n",
       "        vertical-align: middle;\n",
       "    }\n",
       "\n",
       "    .dataframe tbody tr th {\n",
       "        vertical-align: top;\n",
       "    }\n",
       "\n",
       "    .dataframe thead th {\n",
       "        text-align: right;\n",
       "    }\n",
       "</style>\n",
       "<table border=\"1\" class=\"dataframe\">\n",
       "  <thead>\n",
       "    <tr style=\"text-align: right;\">\n",
       "      <th></th>\n",
       "      <th>Category_Type</th>\n",
       "      <th>Item_in_Menu</th>\n",
       "      <th>Carbohydrates</th>\n",
       "      <th>Sugars</th>\n",
       "      <th>Protein</th>\n",
       "      <th>Calories</th>\n",
       "    </tr>\n",
       "  </thead>\n",
       "  <tbody>\n",
       "    <tr>\n",
       "      <th>50</th>\n",
       "      <td>Smoothies &amp; Shakes</td>\n",
       "      <td>Vanilla Shake (Large)</td>\n",
       "      <td>135</td>\n",
       "      <td>7</td>\n",
       "      <td>24</td>\n",
       "      <td>430</td>\n",
       "    </tr>\n",
       "    <tr>\n",
       "      <th>52</th>\n",
       "      <td>Smoothies &amp; Shakes</td>\n",
       "      <td>Strawberry Shake (Medium)</td>\n",
       "      <td>114</td>\n",
       "      <td>7</td>\n",
       "      <td>22</td>\n",
       "      <td>380</td>\n",
       "    </tr>\n",
       "    <tr>\n",
       "      <th>49</th>\n",
       "      <td>Smoothies &amp; Shakes</td>\n",
       "      <td>Vanilla Shake (Medium)</td>\n",
       "      <td>109</td>\n",
       "      <td>7</td>\n",
       "      <td>15</td>\n",
       "      <td>290</td>\n",
       "    </tr>\n",
       "    <tr>\n",
       "      <th>51</th>\n",
       "      <td>Smoothies &amp; Shakes</td>\n",
       "      <td>Strawberry Shake (Small)</td>\n",
       "      <td>90</td>\n",
       "      <td>14</td>\n",
       "      <td>39</td>\n",
       "      <td>720</td>\n",
       "    </tr>\n",
       "    <tr>\n",
       "      <th>48</th>\n",
       "      <td>Smoothies &amp; Shakes</td>\n",
       "      <td>Vanilla Shake (Small)</td>\n",
       "      <td>86</td>\n",
       "      <td>6</td>\n",
       "      <td>12</td>\n",
       "      <td>240</td>\n",
       "    </tr>\n",
       "    <tr>\n",
       "      <th>41</th>\n",
       "      <td>Smoothies &amp; Shakes</td>\n",
       "      <td>Blueberry Pomegranate Smoothie (Large)</td>\n",
       "      <td>79</td>\n",
       "      <td>18</td>\n",
       "      <td>5</td>\n",
       "      <td>260</td>\n",
       "    </tr>\n",
       "    <tr>\n",
       "      <th>47</th>\n",
       "      <td>Smoothies &amp; Shakes</td>\n",
       "      <td>Mango Pineapple Smoothie (Large)</td>\n",
       "      <td>78</td>\n",
       "      <td>10</td>\n",
       "      <td>48</td>\n",
       "      <td>750</td>\n",
       "    </tr>\n",
       "    <tr>\n",
       "      <th>35</th>\n",
       "      <td>Beverages</td>\n",
       "      <td>Coca-Cola Classic (Large)</td>\n",
       "      <td>76</td>\n",
       "      <td>14</td>\n",
       "      <td>8</td>\n",
       "      <td>350</td>\n",
       "    </tr>\n",
       "    <tr>\n",
       "      <th>44</th>\n",
       "      <td>Smoothies &amp; Shakes</td>\n",
       "      <td>Strawberry Banana Smoothie (Large)</td>\n",
       "      <td>74</td>\n",
       "      <td>12</td>\n",
       "      <td>37</td>\n",
       "      <td>600</td>\n",
       "    </tr>\n",
       "    <tr>\n",
       "      <th>23</th>\n",
       "      <td>Snacks &amp; Sides</td>\n",
       "      <td>Large French Fries</td>\n",
       "      <td>67</td>\n",
       "      <td>15</td>\n",
       "      <td>21</td>\n",
       "      <td>500</td>\n",
       "    </tr>\n",
       "  </tbody>\n",
       "</table>\n",
       "</div>"
      ],
      "text/plain": [
       "         Category_Type                            Item_in_Menu  Carbohydrates  \\\n",
       "50  Smoothies & Shakes                   Vanilla Shake (Large)            135   \n",
       "52  Smoothies & Shakes               Strawberry Shake (Medium)            114   \n",
       "49  Smoothies & Shakes                  Vanilla Shake (Medium)            109   \n",
       "51  Smoothies & Shakes                Strawberry Shake (Small)             90   \n",
       "48  Smoothies & Shakes                   Vanilla Shake (Small)             86   \n",
       "41  Smoothies & Shakes  Blueberry Pomegranate Smoothie (Large)             79   \n",
       "47  Smoothies & Shakes        Mango Pineapple Smoothie (Large)             78   \n",
       "35           Beverages               Coca-Cola Classic (Large)             76   \n",
       "44  Smoothies & Shakes      Strawberry Banana Smoothie (Large)             74   \n",
       "23      Snacks & Sides                      Large French Fries             67   \n",
       "\n",
       "    Sugars  Protein  Calories  \n",
       "50       7       24       430  \n",
       "52       7       22       380  \n",
       "49       7       15       290  \n",
       "51      14       39       720  \n",
       "48       6       12       240  \n",
       "41      18        5       260  \n",
       "47      10       48       750  \n",
       "35      14        8       350  \n",
       "44      12       37       600  \n",
       "23      15       21       500  "
      ]
     },
     "execution_count": 18,
     "metadata": {},
     "output_type": "execute_result"
    }
   ],
   "source": [
    "df.sort_values(by='Carbohydrates',ascending=False).head(10)"
   ]
  },
  {
   "cell_type": "markdown",
   "metadata": {},
   "source": [
    "#### D. Display the bar graph for frequncy of `Categories` of food items and write your observations."
   ]
  },
  {
   "cell_type": "code",
   "execution_count": 68,
   "metadata": {},
   "outputs": [
    {
     "data": {
      "image/png": "[encoded data removed]",
      "text/plain": [
       "<Figure size 432x288 with 1 Axes>"
      ]
     },
     "metadata": {
      "needs_background": "light"
     },
     "output_type": "display_data"
    }
   ],
   "source": [
    "df['Category_Type'].value_counts().plot(kind='bar')\n",
    "plt.show()\n"
   ]
  },
  {
   "cell_type": "code",
   "execution_count": 69,
   "metadata": {},
   "outputs": [
    {
     "data": {
      "text/plain": [
       "Smoothies & Shakes    14\n",
       "Snacks & Sides        13\n",
       "Salads                 6\n",
       "Desserts               5\n",
       "Breakfast              3\n",
       "Beef & Pork            3\n",
       "Chicken & Fish         3\n",
       "Beverages              3\n",
       "Coffee & Tea           3\n",
       "Name: Category_Type, dtype: int64"
      ]
     },
     "execution_count": 69,
     "metadata": {},
     "output_type": "execute_result"
    }
   ],
   "source": [
    "#here we have 9 categories in total with maximum 14 smoothies &shakes stands at  the top\n",
    "#and with 3 Coffee &Tea is at the bottom.full table is shown below \n",
    "\n",
    "df['Category_Type'].value_counts()"
   ]
  },
  {
   "cell_type": "markdown",
   "metadata": {},
   "source": [
    "#### E. An Indian male requires 2500 calories in a day and a female requires 2000 calories in a day to maintain good lifestyle. Find the solutions as displayed in sample output1 and 2.\n",
    "    Sample Output1:\n",
    "\n",
    "    * Average calories of 'Beverages' category is 796.67\n",
    "    * On an Average 'Beverages' contributes to men's calories intake  0.32\n",
    "    * On an Average 'Beverages' contributes to women's calories intake  0.4\n",
    "    \n",
    "    Steps to get the output1\n",
    "    1. For each item of Beverages display calorie and calculate the contribution of that food item in the male and females's daily calorie need. \n",
    "    2. Calculate average calories for the beverages category\n",
    "    3. Calculate average contribution of calorie for male's requirement using beverages category\n",
    "    4. Calculate average contribution of calorie for female's requirement using beverages category\n"
   ]
  },
  {
   "cell_type": "code",
   "execution_count": 41,
   "metadata": {},
   "outputs": [
    {
     "name": "stdout",
     "output_type": "stream",
     "text": [
      "Average calories of 'Beverages' category is  Calories    796.666667\n",
      "Name: Beverages, dtype: float64\n",
      "On an Average 'Beverages' contributes to men's calories intake Calories    0.318667\n",
      "Name: Beverages, dtype: float64\n",
      "On an Average 'Beverages' contributes to women's calories intake Calories    0.398333\n",
      "Name: Beverages, dtype: float64\n"
     ]
    }
   ],
   "source": [
    "x=df.groupby('Category_Type').mean(\"Calories\")[['Calories']]\n",
    "y=x.loc['Beverages']\n",
    "print(\"Average calories of 'Beverages' category is \",y)\n",
    "print(\"On an Average 'Beverages' contributes to men's calories intake\",y/2500)\n",
    "print(\"On an Average 'Beverages' contributes to women's calories intake\",y/2000)"
   ]
  },
  {
   "cell_type": "markdown",
   "metadata": {},
   "source": [
    "**Sample Output2**\n",
    "\n",
    "* Average calories of 'Coffee & Tea' category is 323.33\n",
    "* Averagely 'Coffee & Tea' contributes to men's calories intake for  0.13\n",
    "* Averagely 'Coffee & Tea' contributes to women's calories intake for  0.16\n",
    "\n",
    "    Steps to get the output2\n",
    "    1. For each item of 'Coffee & Tea' display calorie and calculate the contribution of that food item in the male and    females's daily calorie need. \n",
    "    2. Calculate average calories for the 'Coffee & Tea' category\n",
    "    3. Calculate average contribution of calorie for male's requirement using 'Coffee & Tea' category\n",
    "    4. Calculate average contribution of calorie for female's requirement using 'Coffee & Tea' category"
   ]
  },
  {
   "cell_type": "code",
   "execution_count": 40,
   "metadata": {},
   "outputs": [
    {
     "name": "stdout",
     "output_type": "stream",
     "text": [
      "Average calories of 'Coffee & Tea' category is  Calories    323.333333\n",
      "Name: Coffee & Tea, dtype: float64\n",
      "On an Average 'Coffee & Tea' contributes to men's calories intake Calories    0.129333\n",
      "Name: Coffee & Tea, dtype: float64\n",
      "On an Average 'Coffee & Tea' contributes to women's calories intake Calories    0.161667\n",
      "Name: Coffee & Tea, dtype: float64\n"
     ]
    }
   ],
   "source": [
    "x=df.groupby('Category_Type').mean(\"Calories\")[['Calories']]\n",
    "y=x.loc['Coffee & Tea']\n",
    "print(\"Average calories of 'Coffee & Tea' category is \",y)\n",
    "print(\"On an Average 'Coffee & Tea' contributes to men's calories intake\",y/2500)\n",
    "print(\"On an Average 'Coffee & Tea' contributes to women's calories intake\",y/2000)"
   ]
  },
  {
   "cell_type": "markdown",
   "metadata": {},
   "source": [
    "#### F. If you order grilled chicken rather than crispy chicken, what is the change in calorie intake?\n",
    "        Step1:  Display the suitable graph for the number of calories in Crispy Chicken category\n",
    "\n",
    "        Step2: Find the average calories for Crispy Chicken Category\n",
    "\n",
    "        Step3: Display the suitable graph for the number of calories in Grilled Chicken category\n",
    "\n",
    "        Step4: Find the average calories for Grilled Chicken Category\n",
    "\n",
    "        Step5: Get the final visual comparison of Crispy vs Grilled on the basis of calories\n",
    "\n",
    "        Step6: Write your observations."
   ]
  },
  {
   "cell_type": "markdown",
   "metadata": {},
   "source": [
    "##### Step1: Display the suitable graph for the number of calories in Crispy Chicken category"
   ]
  },
  {
   "cell_type": "code",
   "execution_count": 30,
   "metadata": {},
   "outputs": [
    {
     "data": {
      "image/png": "[encoded data removed]",
      "text/plain": [
       "<Figure size 432x288 with 1 Axes>"
      ]
     },
     "metadata": {
      "needs_background": "light"
     },
     "output_type": "display_data"
    }
   ],
   "source": [
    "df[df[\"Item_in_Menu\"].str.contains('Crispy Chicken')].plot(x='Item_in_Menu',y='Calories',kind='bar')\n",
    "plt.show()"
   ]
  },
  {
   "cell_type": "markdown",
   "metadata": {},
   "source": [
    "##### Step2: Find the average calories for Crispy Chicken Category"
   ]
  },
  {
   "cell_type": "code",
   "execution_count": 26,
   "metadata": {},
   "outputs": [
    {
     "name": "stderr",
     "output_type": "stream",
     "text": [
      "C:\\Users\\Lenovo\\AppData\\Local\\Temp/ipykernel_9740/3583551142.py:2: FutureWarning: Dropping of nuisance columns in DataFrame reductions (with 'numeric_only=None') is deprecated; in a future version this will raise TypeError.  Select only valid columns before calling the reduction.\n",
      "  y=x.mean()['Calories']\n"
     ]
    },
    {
     "data": {
      "text/plain": [
       "474.2857142857143"
      ]
     },
     "execution_count": 26,
     "metadata": {},
     "output_type": "execute_result"
    }
   ],
   "source": [
    "x=df[df['Item_in_Menu'].str.contains('Crispy Chicken')]\n",
    "y=x.mean()['Calories']\n",
    "y"
   ]
  },
  {
   "cell_type": "markdown",
   "metadata": {},
   "source": [
    "##### Step3: Display the suitable graph for the number of calories in Grilled Chicken category"
   ]
  },
  {
   "cell_type": "code",
   "execution_count": 35,
   "metadata": {},
   "outputs": [
    {
     "data": {
      "image/png": "[encoded data removed]",
      "text/plain": [
       "<Figure size 432x288 with 1 Axes>"
      ]
     },
     "metadata": {
      "needs_background": "light"
     },
     "output_type": "display_data"
    }
   ],
   "source": [
    "df[df['Item_in_Menu'].str.contains('Grilled Chicken')].plot(x=\"Item_in_Menu\",y='Calories',kind='bar')\n",
    "plt.show()                                                            "
   ]
  },
  {
   "cell_type": "markdown",
   "metadata": {},
   "source": [
    "##### Step4:Find the average calories for Grilled Chicken Category"
   ]
  },
  {
   "cell_type": "code",
   "execution_count": 27,
   "metadata": {},
   "outputs": [
    {
     "name": "stderr",
     "output_type": "stream",
     "text": [
      "C:\\Users\\Lenovo\\AppData\\Local\\Temp/ipykernel_9740/163759941.py:2: FutureWarning: Dropping of nuisance columns in DataFrame reductions (with 'numeric_only=None') is deprecated; in a future version this will raise TypeError.  Select only valid columns before calling the reduction.\n",
      "  y=x.mean()[\"Calories\"]\n"
     ]
    },
    {
     "data": {
      "text/plain": [
       "468.3333333333333"
      ]
     },
     "execution_count": 27,
     "metadata": {},
     "output_type": "execute_result"
    }
   ],
   "source": [
    "x=df[df['Item_in_Menu'].str.contains('Grilled Chicken')]\n",
    "y=x.mean()[\"Calories\"]\n",
    "y"
   ]
  },
  {
   "cell_type": "markdown",
   "metadata": {},
   "source": [
    "##### Step 5: Get the final visual comparison of Crispy vs Grilled on the basis of calories"
   ]
  },
  {
   "cell_type": "code",
   "execution_count": 56,
   "metadata": {},
   "outputs": [
    {
     "name": "stdout",
     "output_type": "stream",
     "text": [
      "6     460\n",
      "8     410\n",
      "10    430\n",
      "13    570\n",
      "15    520\n",
      "17    470\n",
      "19    460\n",
      "Name: Calories, dtype: int64\n",
      "7     520\n",
      "11    480\n",
      "14    460\n",
      "16    410\n",
      "18    540\n",
      "20    400\n",
      "Name: Calories, dtype: int64\n"
     ]
    },
    {
     "data": {
      "image/png": "[encoded data removed]",
      "text/plain": [
       "<Figure size 432x288 with 1 Axes>"
      ]
     },
     "metadata": {
      "needs_background": "light"
     },
     "output_type": "display_data"
    }
   ],
   "source": [
    "p = df.loc[(df.Item_in_Menu.str.contains(\"Crispy Chicken\")), ['Item_in_Menu', 'Calories']]\n",
    "q = df.loc[(df.Item_in_Menu.str.contains(\"Grilled Chicken\")), ['Item_in_Menu', 'Calories']]\n",
    "x=p.Calories\n",
    "y=q.Calories\n",
    "print(x)\n",
    "print(y)\n",
    "x = np.linspace(0, 700, num=6, dtype=int)\n",
    "plt.bar(X_axis - 0.2, x, 0.4, label = 'Crispy Chicken')\n",
    "plt.bar(X_axis + 0.2, y, 0.4, label = 'Grilled Chicken')\n",
    "plt.legend()\n",
    "plt.show()\n"
   ]
  },
  {
   "cell_type": "markdown",
   "metadata": {},
   "source": [
    "##### Step6: Write your observations"
   ]
  },
  {
   "cell_type": "code",
   "execution_count": null,
   "metadata": {},
   "outputs": [],
   "source": [
    "#Based on above observation we can conclude that average calories of grilled chicken is 468.34\n",
    "#and average calories of crispy chicken is 474.28\n",
    "#Whereas the range of calories intake in different items of crispy chicken lies in range 410-570 and \n",
    "#grilled chicken is 400-540.\n",
    "#so change in calories intake will be depend on which two items you want to compare\n",
    "#because some cripy chicken items have less calories than grilled chicken items and vice versa."
   ]
  },
  {
   "cell_type": "markdown",
   "metadata": {},
   "source": [
    "##### G. Plot scatter plot between carbohydrates and calories"
   ]
  },
  {
   "cell_type": "code",
   "execution_count": 53,
   "metadata": {},
   "outputs": [
    {
     "data": {
      "image/png": "[encoded data removed]",
      "text/plain": [
       "<Figure size 432x288 with 1 Axes>"
      ]
     },
     "metadata": {
      "needs_background": "light"
     },
     "output_type": "display_data"
    }
   ],
   "source": [
    "sns.scatterplot(data=df,x='Carbohydrates',y='Calories')\n",
    "plt.show()"
   ]
  }
 ],
 "metadata": {
  "kernelspec": {
   "display_name": "Python 3 (ipykernel)",
   "language": "python",
   "name": "python3"
  },
  "language_info": {
   "codemirror_mode": {
    "name": "ipython",
    "version": 3
   },
   "file_extension": ".py",
   "mimetype": "text/x-python",
   "name": "python",
   "nbconvert_exporter": "python",
   "pygments_lexer": "ipython3",
   "version": "3.9.7"
  }
 },
 "nbformat": 4,
 "nbformat_minor": 4
}
