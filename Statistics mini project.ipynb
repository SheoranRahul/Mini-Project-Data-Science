{
 "cells": [
  {
   "cell_type": "code",
   "execution_count": 1,
   "id": "6527ccbb-b6c3-4a30-8a98-31fee50ae89f",
   "metadata": {},
   "outputs": [],
   "source": [
    "#Importing important libraries\n",
    "import numpy as np\n",
    "import pandas as pd\n",
    "from matplotlib import pyplot as plt\n",
    "import seaborn as sns\n",
    "import scipy.stats as stats\n",
    "import warnings\n",
    "warnings.filterwarnings('ignore')"
   ]
  },
  {
   "cell_type": "markdown",
   "id": "a646c59a-e0c6-433a-8927-3e99f6b1f16d",
   "metadata": {},
   "source": [
    "# Fifa Dataset"
   ]
  },
  {
   "cell_type": "markdown",
   "id": "be667e0d-f9db-4be8-b28a-5d0bdd79657d",
   "metadata": {},
   "source": [
    "#### The dataset consists of player information, which includes height; weight overall rating, potential etc."
   ]
  },
  {
   "cell_type": "code",
   "execution_count": 2,
   "id": "9b7f9315-9269-49a6-9df7-69c9d61392a8",
   "metadata": {},
   "outputs": [],
   "source": [
    "fifa=pd.read_csv(r'C:\\Users\\SUHANSHU\\Downloads\\Statistics Mini Project (1)\\Statistics Mini Project\\fifa_stats.csv')"
   ]
  },
  {
   "cell_type": "code",
   "execution_count": 3,
   "id": "29ef9db7-94a8-4515-81eb-793a774de21e",
   "metadata": {},
   "outputs": [
    {
     "data": {
      "text/html": [
       "<div>\n",
       "<style scoped>\n",
       "    .dataframe tbody tr th:only-of-type {\n",
       "        vertical-align: middle;\n",
       "    }\n",
       "\n",
       "    .dataframe tbody tr th {\n",
       "        vertical-align: top;\n",
       "    }\n",
       "\n",
       "    .dataframe thead th {\n",
       "        text-align: right;\n",
       "    }\n",
       "</style>\n",
       "<table border=\"1\" class=\"dataframe\">\n",
       "  <thead>\n",
       "    <tr style=\"text-align: right;\">\n",
       "      <th></th>\n",
       "      <th>Name</th>\n",
       "      <th>Age</th>\n",
       "      <th>Nationality</th>\n",
       "      <th>Overall_rating</th>\n",
       "      <th>Potential</th>\n",
       "      <th>Club</th>\n",
       "      <th>Preferred Foot</th>\n",
       "      <th>International Reputation</th>\n",
       "      <th>Weak Foot</th>\n",
       "      <th>Skill Moves</th>\n",
       "      <th>Work Rate</th>\n",
       "      <th>Position</th>\n",
       "      <th>Jersey Number</th>\n",
       "      <th>Height</th>\n",
       "      <th>Weight</th>\n",
       "    </tr>\n",
       "  </thead>\n",
       "  <tbody>\n",
       "    <tr>\n",
       "      <th>0</th>\n",
       "      <td>L. Messi</td>\n",
       "      <td>31</td>\n",
       "      <td>Argentina</td>\n",
       "      <td>94</td>\n",
       "      <td>94</td>\n",
       "      <td>FC Barcelona</td>\n",
       "      <td>Left</td>\n",
       "      <td>5</td>\n",
       "      <td>4</td>\n",
       "      <td>4</td>\n",
       "      <td>Medium/ Medium</td>\n",
       "      <td>RF</td>\n",
       "      <td>10</td>\n",
       "      <td>5.583333</td>\n",
       "      <td>159</td>\n",
       "    </tr>\n",
       "    <tr>\n",
       "      <th>1</th>\n",
       "      <td>Cristiano Ronaldo</td>\n",
       "      <td>33</td>\n",
       "      <td>Portugal</td>\n",
       "      <td>94</td>\n",
       "      <td>94</td>\n",
       "      <td>Juventus</td>\n",
       "      <td>Right</td>\n",
       "      <td>5</td>\n",
       "      <td>4</td>\n",
       "      <td>5</td>\n",
       "      <td>High/ Low</td>\n",
       "      <td>ST</td>\n",
       "      <td>7</td>\n",
       "      <td>6.166667</td>\n",
       "      <td>183</td>\n",
       "    </tr>\n",
       "    <tr>\n",
       "      <th>2</th>\n",
       "      <td>Neymar Jr</td>\n",
       "      <td>26</td>\n",
       "      <td>Brazil</td>\n",
       "      <td>92</td>\n",
       "      <td>93</td>\n",
       "      <td>Paris Saint-Germain</td>\n",
       "      <td>Right</td>\n",
       "      <td>5</td>\n",
       "      <td>5</td>\n",
       "      <td>5</td>\n",
       "      <td>High/ Medium</td>\n",
       "      <td>LW</td>\n",
       "      <td>10</td>\n",
       "      <td>5.750000</td>\n",
       "      <td>150</td>\n",
       "    </tr>\n",
       "    <tr>\n",
       "      <th>3</th>\n",
       "      <td>De Gea</td>\n",
       "      <td>27</td>\n",
       "      <td>Spain</td>\n",
       "      <td>91</td>\n",
       "      <td>93</td>\n",
       "      <td>Manchester United</td>\n",
       "      <td>Right</td>\n",
       "      <td>4</td>\n",
       "      <td>3</td>\n",
       "      <td>1</td>\n",
       "      <td>Medium/ Medium</td>\n",
       "      <td>GK</td>\n",
       "      <td>1</td>\n",
       "      <td>6.333333</td>\n",
       "      <td>168</td>\n",
       "    </tr>\n",
       "    <tr>\n",
       "      <th>4</th>\n",
       "      <td>K. De Bruyne</td>\n",
       "      <td>27</td>\n",
       "      <td>Belgium</td>\n",
       "      <td>91</td>\n",
       "      <td>92</td>\n",
       "      <td>Manchester City</td>\n",
       "      <td>Right</td>\n",
       "      <td>4</td>\n",
       "      <td>5</td>\n",
       "      <td>4</td>\n",
       "      <td>High/ High</td>\n",
       "      <td>RCM</td>\n",
       "      <td>7</td>\n",
       "      <td>5.083333</td>\n",
       "      <td>154</td>\n",
       "    </tr>\n",
       "  </tbody>\n",
       "</table>\n",
       "</div>"
      ],
      "text/plain": [
       "                Name  Age Nationality  Overall_rating  Potential  \\\n",
       "0           L. Messi   31   Argentina              94         94   \n",
       "1  Cristiano Ronaldo   33    Portugal              94         94   \n",
       "2          Neymar Jr   26      Brazil              92         93   \n",
       "3             De Gea   27       Spain              91         93   \n",
       "4       K. De Bruyne   27     Belgium              91         92   \n",
       "\n",
       "                  Club Preferred Foot  International Reputation  Weak Foot  \\\n",
       "0         FC Barcelona           Left                         5          4   \n",
       "1             Juventus          Right                         5          4   \n",
       "2  Paris Saint-Germain          Right                         5          5   \n",
       "3    Manchester United          Right                         4          3   \n",
       "4      Manchester City          Right                         4          5   \n",
       "\n",
       "   Skill Moves       Work Rate Position  Jersey Number    Height  Weight  \n",
       "0            4  Medium/ Medium       RF             10  5.583333     159  \n",
       "1            5       High/ Low       ST              7  6.166667     183  \n",
       "2            5    High/ Medium       LW             10  5.750000     150  \n",
       "3            1  Medium/ Medium       GK              1  6.333333     168  \n",
       "4            4      High/ High      RCM              7  5.083333     154  "
      ]
     },
     "execution_count": 3,
     "metadata": {},
     "output_type": "execute_result"
    }
   ],
   "source": [
    "# First Five rows of the data\n",
    "fifa.head()"
   ]
  },
  {
   "cell_type": "code",
   "execution_count": 4,
   "id": "63b1a1e3-db30-49a9-8244-c42391b80f27",
   "metadata": {},
   "outputs": [
    {
     "name": "stdout",
     "output_type": "stream",
     "text": [
      "<class 'pandas.core.frame.DataFrame'>\n",
      "RangeIndex: 2000 entries, 0 to 1999\n",
      "Data columns (total 15 columns):\n",
      " #   Column                    Non-Null Count  Dtype  \n",
      "---  ------                    --------------  -----  \n",
      " 0   Name                      2000 non-null   object \n",
      " 1   Age                       2000 non-null   int64  \n",
      " 2   Nationality               2000 non-null   object \n",
      " 3   Overall_rating            2000 non-null   int64  \n",
      " 4   Potential                 2000 non-null   int64  \n",
      " 5   Club                      1981 non-null   object \n",
      " 6   Preferred Foot            2000 non-null   object \n",
      " 7   International Reputation  2000 non-null   int64  \n",
      " 8   Weak Foot                 2000 non-null   int64  \n",
      " 9   Skill Moves               2000 non-null   int64  \n",
      " 10  Work Rate                 2000 non-null   object \n",
      " 11  Position                  2000 non-null   object \n",
      " 12  Jersey Number             2000 non-null   int64  \n",
      " 13  Height                    2000 non-null   float64\n",
      " 14  Weight                    2000 non-null   int64  \n",
      "dtypes: float64(1), int64(8), object(6)\n",
      "memory usage: 234.5+ KB\n"
     ]
    }
   ],
   "source": [
    "# Info of the Data\n",
    "fifa.info()"
   ]
  },
  {
   "cell_type": "code",
   "execution_count": 5,
   "id": "87482c5e-b701-44e2-b0fc-368e05ef8848",
   "metadata": {},
   "outputs": [
    {
     "data": {
      "text/html": [
       "<div>\n",
       "<style scoped>\n",
       "    .dataframe tbody tr th:only-of-type {\n",
       "        vertical-align: middle;\n",
       "    }\n",
       "\n",
       "    .dataframe tbody tr th {\n",
       "        vertical-align: top;\n",
       "    }\n",
       "\n",
       "    .dataframe thead th {\n",
       "        text-align: right;\n",
       "    }\n",
       "</style>\n",
       "<table border=\"1\" class=\"dataframe\">\n",
       "  <thead>\n",
       "    <tr style=\"text-align: right;\">\n",
       "      <th></th>\n",
       "      <th>Age</th>\n",
       "      <th>Overall_rating</th>\n",
       "      <th>Potential</th>\n",
       "      <th>International Reputation</th>\n",
       "      <th>Weak Foot</th>\n",
       "      <th>Skill Moves</th>\n",
       "      <th>Jersey Number</th>\n",
       "      <th>Height</th>\n",
       "      <th>Weight</th>\n",
       "    </tr>\n",
       "  </thead>\n",
       "  <tbody>\n",
       "    <tr>\n",
       "      <th>count</th>\n",
       "      <td>2000.000000</td>\n",
       "      <td>2000.000000</td>\n",
       "      <td>2000.000000</td>\n",
       "      <td>2000.000000</td>\n",
       "      <td>2000.000000</td>\n",
       "      <td>2000.000000</td>\n",
       "      <td>2000.000000</td>\n",
       "      <td>2000.000000</td>\n",
       "      <td>2000.000000</td>\n",
       "    </tr>\n",
       "    <tr>\n",
       "      <th>mean</th>\n",
       "      <td>27.231500</td>\n",
       "      <td>78.197000</td>\n",
       "      <td>80.303500</td>\n",
       "      <td>1.774500</td>\n",
       "      <td>3.204000</td>\n",
       "      <td>2.919500</td>\n",
       "      <td>15.205500</td>\n",
       "      <td>5.781042</td>\n",
       "      <td>169.478000</td>\n",
       "    </tr>\n",
       "    <tr>\n",
       "      <th>std</th>\n",
       "      <td>3.859061</td>\n",
       "      <td>3.285969</td>\n",
       "      <td>4.114104</td>\n",
       "      <td>0.811775</td>\n",
       "      <td>0.728457</td>\n",
       "      <td>0.964098</td>\n",
       "      <td>13.210508</td>\n",
       "      <td>0.443337</td>\n",
       "      <td>16.050306</td>\n",
       "    </tr>\n",
       "    <tr>\n",
       "      <th>min</th>\n",
       "      <td>17.000000</td>\n",
       "      <td>75.000000</td>\n",
       "      <td>75.000000</td>\n",
       "      <td>1.000000</td>\n",
       "      <td>1.000000</td>\n",
       "      <td>1.000000</td>\n",
       "      <td>1.000000</td>\n",
       "      <td>5.083333</td>\n",
       "      <td>123.000000</td>\n",
       "    </tr>\n",
       "    <tr>\n",
       "      <th>25%</th>\n",
       "      <td>24.000000</td>\n",
       "      <td>76.000000</td>\n",
       "      <td>77.000000</td>\n",
       "      <td>1.000000</td>\n",
       "      <td>3.000000</td>\n",
       "      <td>2.000000</td>\n",
       "      <td>7.000000</td>\n",
       "      <td>5.500000</td>\n",
       "      <td>159.000000</td>\n",
       "    </tr>\n",
       "    <tr>\n",
       "      <th>50%</th>\n",
       "      <td>27.000000</td>\n",
       "      <td>77.000000</td>\n",
       "      <td>80.000000</td>\n",
       "      <td>2.000000</td>\n",
       "      <td>3.000000</td>\n",
       "      <td>3.000000</td>\n",
       "      <td>12.000000</td>\n",
       "      <td>6.000000</td>\n",
       "      <td>170.000000</td>\n",
       "    </tr>\n",
       "    <tr>\n",
       "      <th>75%</th>\n",
       "      <td>30.000000</td>\n",
       "      <td>80.000000</td>\n",
       "      <td>83.000000</td>\n",
       "      <td>2.000000</td>\n",
       "      <td>4.000000</td>\n",
       "      <td>4.000000</td>\n",
       "      <td>20.000000</td>\n",
       "      <td>6.166667</td>\n",
       "      <td>181.000000</td>\n",
       "    </tr>\n",
       "    <tr>\n",
       "      <th>max</th>\n",
       "      <td>41.000000</td>\n",
       "      <td>94.000000</td>\n",
       "      <td>95.000000</td>\n",
       "      <td>5.000000</td>\n",
       "      <td>5.000000</td>\n",
       "      <td>5.000000</td>\n",
       "      <td>99.000000</td>\n",
       "      <td>6.583333</td>\n",
       "      <td>227.000000</td>\n",
       "    </tr>\n",
       "  </tbody>\n",
       "</table>\n",
       "</div>"
      ],
      "text/plain": [
       "               Age  Overall_rating    Potential  International Reputation  \\\n",
       "count  2000.000000     2000.000000  2000.000000               2000.000000   \n",
       "mean     27.231500       78.197000    80.303500                  1.774500   \n",
       "std       3.859061        3.285969     4.114104                  0.811775   \n",
       "min      17.000000       75.000000    75.000000                  1.000000   \n",
       "25%      24.000000       76.000000    77.000000                  1.000000   \n",
       "50%      27.000000       77.000000    80.000000                  2.000000   \n",
       "75%      30.000000       80.000000    83.000000                  2.000000   \n",
       "max      41.000000       94.000000    95.000000                  5.000000   \n",
       "\n",
       "         Weak Foot  Skill Moves  Jersey Number       Height       Weight  \n",
       "count  2000.000000  2000.000000    2000.000000  2000.000000  2000.000000  \n",
       "mean      3.204000     2.919500      15.205500     5.781042   169.478000  \n",
       "std       0.728457     0.964098      13.210508     0.443337    16.050306  \n",
       "min       1.000000     1.000000       1.000000     5.083333   123.000000  \n",
       "25%       3.000000     2.000000       7.000000     5.500000   159.000000  \n",
       "50%       3.000000     3.000000      12.000000     6.000000   170.000000  \n",
       "75%       4.000000     4.000000      20.000000     6.166667   181.000000  \n",
       "max       5.000000     5.000000      99.000000     6.583333   227.000000  "
      ]
     },
     "execution_count": 5,
     "metadata": {},
     "output_type": "execute_result"
    }
   ],
   "source": [
    "# Summary Statistics\n",
    "fifa.describe()"
   ]
  },
  {
   "cell_type": "code",
   "execution_count": 6,
   "id": "7f6c6680-6d68-4cb8-973f-c126cab5a64e",
   "metadata": {},
   "outputs": [
    {
     "data": {
      "text/plain": [
       "(2000, 15)"
      ]
     },
     "execution_count": 6,
     "metadata": {},
     "output_type": "execute_result"
    }
   ],
   "source": [
    "# Shape of the Data\n",
    "fifa.shape"
   ]
  },
  {
   "cell_type": "code",
   "execution_count": 7,
   "id": "8bc659de-08cc-4f3b-8ddb-67ae0ae9d9a9",
   "metadata": {},
   "outputs": [
    {
     "data": {
      "text/plain": [
       "Name                         0\n",
       "Age                          0\n",
       "Nationality                  0\n",
       "Overall_rating               0\n",
       "Potential                    0\n",
       "Club                        19\n",
       "Preferred Foot               0\n",
       "International Reputation     0\n",
       "Weak Foot                    0\n",
       "Skill Moves                  0\n",
       "Work Rate                    0\n",
       "Position                     0\n",
       "Jersey Number                0\n",
       "Height                       0\n",
       "Weight                       0\n",
       "dtype: int64"
      ]
     },
     "execution_count": 7,
     "metadata": {},
     "output_type": "execute_result"
    }
   ],
   "source": [
    "# Checking for missing values\n",
    "fifa.isnull().sum()\n",
    "# We See that we have 19 missing values in the club column.\n",
    "# These players may be free agents and we may handle these missing values accordingly"
   ]
  },
  {
   "cell_type": "code",
   "execution_count": 8,
   "id": "a90bedbc-6c4d-4b6b-a1bf-6585841af76a",
   "metadata": {},
   "outputs": [
    {
     "data": {
      "text/html": [
       "<div>\n",
       "<style scoped>\n",
       "    .dataframe tbody tr th:only-of-type {\n",
       "        vertical-align: middle;\n",
       "    }\n",
       "\n",
       "    .dataframe tbody tr th {\n",
       "        vertical-align: top;\n",
       "    }\n",
       "\n",
       "    .dataframe thead th {\n",
       "        text-align: right;\n",
       "    }\n",
       "</style>\n",
       "<table border=\"1\" class=\"dataframe\">\n",
       "  <thead>\n",
       "    <tr style=\"text-align: right;\">\n",
       "      <th></th>\n",
       "      <th>Age</th>\n",
       "      <th>Overall_rating</th>\n",
       "      <th>Potential</th>\n",
       "      <th>International Reputation</th>\n",
       "      <th>Weak Foot</th>\n",
       "      <th>Skill Moves</th>\n",
       "      <th>Jersey Number</th>\n",
       "      <th>Height</th>\n",
       "      <th>Weight</th>\n",
       "    </tr>\n",
       "  </thead>\n",
       "  <tbody>\n",
       "    <tr>\n",
       "      <th>Age</th>\n",
       "      <td>1.000000</td>\n",
       "      <td>0.063348</td>\n",
       "      <td>-0.511339</td>\n",
       "      <td>0.314808</td>\n",
       "      <td>-0.060940</td>\n",
       "      <td>-0.206624</td>\n",
       "      <td>-0.039370</td>\n",
       "      <td>0.065510</td>\n",
       "      <td>0.151674</td>\n",
       "    </tr>\n",
       "    <tr>\n",
       "      <th>Overall_rating</th>\n",
       "      <td>0.063348</td>\n",
       "      <td>1.000000</td>\n",
       "      <td>0.732695</td>\n",
       "      <td>0.661603</td>\n",
       "      <td>0.103579</td>\n",
       "      <td>0.081593</td>\n",
       "      <td>-0.094865</td>\n",
       "      <td>0.041815</td>\n",
       "      <td>0.055342</td>\n",
       "    </tr>\n",
       "    <tr>\n",
       "      <th>Potential</th>\n",
       "      <td>-0.511339</td>\n",
       "      <td>0.732695</td>\n",
       "      <td>1.000000</td>\n",
       "      <td>0.327717</td>\n",
       "      <td>0.099179</td>\n",
       "      <td>0.127366</td>\n",
       "      <td>-0.037827</td>\n",
       "      <td>0.030624</td>\n",
       "      <td>-0.017228</td>\n",
       "    </tr>\n",
       "    <tr>\n",
       "      <th>International Reputation</th>\n",
       "      <td>0.314808</td>\n",
       "      <td>0.661603</td>\n",
       "      <td>0.327717</td>\n",
       "      <td>1.000000</td>\n",
       "      <td>0.105748</td>\n",
       "      <td>0.088652</td>\n",
       "      <td>-0.032622</td>\n",
       "      <td>0.041700</td>\n",
       "      <td>0.071167</td>\n",
       "    </tr>\n",
       "    <tr>\n",
       "      <th>Weak Foot</th>\n",
       "      <td>-0.060940</td>\n",
       "      <td>0.103579</td>\n",
       "      <td>0.099179</td>\n",
       "      <td>0.105748</td>\n",
       "      <td>1.000000</td>\n",
       "      <td>0.342505</td>\n",
       "      <td>0.038840</td>\n",
       "      <td>-0.187942</td>\n",
       "      <td>-0.201137</td>\n",
       "    </tr>\n",
       "    <tr>\n",
       "      <th>Skill Moves</th>\n",
       "      <td>-0.206624</td>\n",
       "      <td>0.081593</td>\n",
       "      <td>0.127366</td>\n",
       "      <td>0.088652</td>\n",
       "      <td>0.342505</td>\n",
       "      <td>1.000000</td>\n",
       "      <td>0.065322</td>\n",
       "      <td>-0.472939</td>\n",
       "      <td>-0.528310</td>\n",
       "    </tr>\n",
       "    <tr>\n",
       "      <th>Jersey Number</th>\n",
       "      <td>-0.039370</td>\n",
       "      <td>-0.094865</td>\n",
       "      <td>-0.037827</td>\n",
       "      <td>-0.032622</td>\n",
       "      <td>0.038840</td>\n",
       "      <td>0.065322</td>\n",
       "      <td>1.000000</td>\n",
       "      <td>0.005081</td>\n",
       "      <td>-0.015377</td>\n",
       "    </tr>\n",
       "    <tr>\n",
       "      <th>Height</th>\n",
       "      <td>0.065510</td>\n",
       "      <td>0.041815</td>\n",
       "      <td>0.030624</td>\n",
       "      <td>0.041700</td>\n",
       "      <td>-0.187942</td>\n",
       "      <td>-0.472939</td>\n",
       "      <td>0.005081</td>\n",
       "      <td>1.000000</td>\n",
       "      <td>0.544016</td>\n",
       "    </tr>\n",
       "    <tr>\n",
       "      <th>Weight</th>\n",
       "      <td>0.151674</td>\n",
       "      <td>0.055342</td>\n",
       "      <td>-0.017228</td>\n",
       "      <td>0.071167</td>\n",
       "      <td>-0.201137</td>\n",
       "      <td>-0.528310</td>\n",
       "      <td>-0.015377</td>\n",
       "      <td>0.544016</td>\n",
       "      <td>1.000000</td>\n",
       "    </tr>\n",
       "  </tbody>\n",
       "</table>\n",
       "</div>"
      ],
      "text/plain": [
       "                               Age  Overall_rating  Potential  \\\n",
       "Age                       1.000000        0.063348  -0.511339   \n",
       "Overall_rating            0.063348        1.000000   0.732695   \n",
       "Potential                -0.511339        0.732695   1.000000   \n",
       "International Reputation  0.314808        0.661603   0.327717   \n",
       "Weak Foot                -0.060940        0.103579   0.099179   \n",
       "Skill Moves              -0.206624        0.081593   0.127366   \n",
       "Jersey Number            -0.039370       -0.094865  -0.037827   \n",
       "Height                    0.065510        0.041815   0.030624   \n",
       "Weight                    0.151674        0.055342  -0.017228   \n",
       "\n",
       "                          International Reputation  Weak Foot  Skill Moves  \\\n",
       "Age                                       0.314808  -0.060940    -0.206624   \n",
       "Overall_rating                            0.661603   0.103579     0.081593   \n",
       "Potential                                 0.327717   0.099179     0.127366   \n",
       "International Reputation                  1.000000   0.105748     0.088652   \n",
       "Weak Foot                                 0.105748   1.000000     0.342505   \n",
       "Skill Moves                               0.088652   0.342505     1.000000   \n",
       "Jersey Number                            -0.032622   0.038840     0.065322   \n",
       "Height                                    0.041700  -0.187942    -0.472939   \n",
       "Weight                                    0.071167  -0.201137    -0.528310   \n",
       "\n",
       "                          Jersey Number    Height    Weight  \n",
       "Age                           -0.039370  0.065510  0.151674  \n",
       "Overall_rating                -0.094865  0.041815  0.055342  \n",
       "Potential                     -0.037827  0.030624 -0.017228  \n",
       "International Reputation      -0.032622  0.041700  0.071167  \n",
       "Weak Foot                      0.038840 -0.187942 -0.201137  \n",
       "Skill Moves                    0.065322 -0.472939 -0.528310  \n",
       "Jersey Number                  1.000000  0.005081 -0.015377  \n",
       "Height                         0.005081  1.000000  0.544016  \n",
       "Weight                        -0.015377  0.544016  1.000000  "
      ]
     },
     "execution_count": 8,
     "metadata": {},
     "output_type": "execute_result"
    }
   ],
   "source": [
    "# co-relation matrix\n",
    "fifa.corr()"
   ]
  },
  {
   "cell_type": "code",
   "execution_count": 9,
   "id": "0d79cb37-6d4d-4ae1-8035-c2dfd614f9d0",
   "metadata": {},
   "outputs": [
    {
     "data": {
      "image/png": "[encoded data removed]",
      "text/plain": [
       "<Figure size 432x288 with 2 Axes>"
      ]
     },
     "metadata": {
      "needs_background": "light"
     },
     "output_type": "display_data"
    }
   ],
   "source": [
    "# Visualisation of the cor-relation matrix\n",
    "sns.heatmap(fifa.corr(),cmap='YlGnBu')\n",
    "plt.show()"
   ]
  },
  {
   "cell_type": "markdown",
   "id": "4df96e77-2a9b-4442-ac91-dfd0b8564081",
   "metadata": {},
   "source": [
    "## Handling Missing Values"
   ]
  },
  {
   "cell_type": "code",
   "execution_count": 10,
   "id": "c26fe610-faee-4669-830d-16405c33bb11",
   "metadata": {},
   "outputs": [
    {
     "data": {
      "text/html": [
       "<div>\n",
       "<style scoped>\n",
       "    .dataframe tbody tr th:only-of-type {\n",
       "        vertical-align: middle;\n",
       "    }\n",
       "\n",
       "    .dataframe tbody tr th {\n",
       "        vertical-align: top;\n",
       "    }\n",
       "\n",
       "    .dataframe thead th {\n",
       "        text-align: right;\n",
       "    }\n",
       "</style>\n",
       "<table border=\"1\" class=\"dataframe\">\n",
       "  <thead>\n",
       "    <tr style=\"text-align: right;\">\n",
       "      <th></th>\n",
       "      <th>Name</th>\n",
       "      <th>Age</th>\n",
       "      <th>Nationality</th>\n",
       "      <th>Overall_rating</th>\n",
       "      <th>Potential</th>\n",
       "      <th>Club</th>\n",
       "      <th>Preferred Foot</th>\n",
       "      <th>International Reputation</th>\n",
       "      <th>Weak Foot</th>\n",
       "      <th>Skill Moves</th>\n",
       "      <th>Work Rate</th>\n",
       "      <th>Position</th>\n",
       "      <th>Jersey Number</th>\n",
       "      <th>Height</th>\n",
       "      <th>Weight</th>\n",
       "    </tr>\n",
       "  </thead>\n",
       "  <tbody>\n",
       "    <tr>\n",
       "      <th>452</th>\n",
       "      <td>L. Paredes</td>\n",
       "      <td>24</td>\n",
       "      <td>Argentina</td>\n",
       "      <td>80</td>\n",
       "      <td>85</td>\n",
       "      <td>NaN</td>\n",
       "      <td>Right</td>\n",
       "      <td>2</td>\n",
       "      <td>4</td>\n",
       "      <td>4</td>\n",
       "      <td>Medium/ Medium</td>\n",
       "      <td>CM</td>\n",
       "      <td>5</td>\n",
       "      <td>5.083333</td>\n",
       "      <td>165</td>\n",
       "    </tr>\n",
       "    <tr>\n",
       "      <th>538</th>\n",
       "      <td>A. Granqvist</td>\n",
       "      <td>33</td>\n",
       "      <td>Sweden</td>\n",
       "      <td>80</td>\n",
       "      <td>80</td>\n",
       "      <td>NaN</td>\n",
       "      <td>Right</td>\n",
       "      <td>2</td>\n",
       "      <td>4</td>\n",
       "      <td>2</td>\n",
       "      <td>High/ Medium</td>\n",
       "      <td>LCB</td>\n",
       "      <td>4</td>\n",
       "      <td>6.333333</td>\n",
       "      <td>185</td>\n",
       "    </tr>\n",
       "    <tr>\n",
       "      <th>568</th>\n",
       "      <td>A. Lunev</td>\n",
       "      <td>26</td>\n",
       "      <td>Russia</td>\n",
       "      <td>79</td>\n",
       "      <td>81</td>\n",
       "      <td>NaN</td>\n",
       "      <td>Right</td>\n",
       "      <td>1</td>\n",
       "      <td>3</td>\n",
       "      <td>1</td>\n",
       "      <td>Medium/ Medium</td>\n",
       "      <td>GK</td>\n",
       "      <td>12</td>\n",
       "      <td>6.166667</td>\n",
       "      <td>176</td>\n",
       "    </tr>\n",
       "    <tr>\n",
       "      <th>677</th>\n",
       "      <td>I. Smolnikov</td>\n",
       "      <td>29</td>\n",
       "      <td>Russia</td>\n",
       "      <td>79</td>\n",
       "      <td>79</td>\n",
       "      <td>NaN</td>\n",
       "      <td>Right</td>\n",
       "      <td>2</td>\n",
       "      <td>3</td>\n",
       "      <td>3</td>\n",
       "      <td>High/ High</td>\n",
       "      <td>RB</td>\n",
       "      <td>2</td>\n",
       "      <td>5.083333</td>\n",
       "      <td>154</td>\n",
       "    </tr>\n",
       "    <tr>\n",
       "      <th>874</th>\n",
       "      <td>A. Dzyuba</td>\n",
       "      <td>29</td>\n",
       "      <td>Russia</td>\n",
       "      <td>78</td>\n",
       "      <td>78</td>\n",
       "      <td>NaN</td>\n",
       "      <td>Right</td>\n",
       "      <td>2</td>\n",
       "      <td>3</td>\n",
       "      <td>3</td>\n",
       "      <td>High/ Medium</td>\n",
       "      <td>ST</td>\n",
       "      <td>22</td>\n",
       "      <td>6.416667</td>\n",
       "      <td>201</td>\n",
       "    </tr>\n",
       "    <tr>\n",
       "      <th>953</th>\n",
       "      <td>LuÃ­s Neto</td>\n",
       "      <td>30</td>\n",
       "      <td>Portugal</td>\n",
       "      <td>77</td>\n",
       "      <td>77</td>\n",
       "      <td>NaN</td>\n",
       "      <td>Right</td>\n",
       "      <td>1</td>\n",
       "      <td>3</td>\n",
       "      <td>2</td>\n",
       "      <td>Medium/ Medium</td>\n",
       "      <td>CB</td>\n",
       "      <td>4</td>\n",
       "      <td>6.166667</td>\n",
       "      <td>157</td>\n",
       "    </tr>\n",
       "    <tr>\n",
       "      <th>997</th>\n",
       "      <td>D. Kuzyaev</td>\n",
       "      <td>25</td>\n",
       "      <td>Russia</td>\n",
       "      <td>77</td>\n",
       "      <td>80</td>\n",
       "      <td>NaN</td>\n",
       "      <td>Right</td>\n",
       "      <td>1</td>\n",
       "      <td>3</td>\n",
       "      <td>3</td>\n",
       "      <td>Medium/ High</td>\n",
       "      <td>RM</td>\n",
       "      <td>7</td>\n",
       "      <td>6.000000</td>\n",
       "      <td>163</td>\n",
       "    </tr>\n",
       "    <tr>\n",
       "      <th>1008</th>\n",
       "      <td>G. Sio</td>\n",
       "      <td>29</td>\n",
       "      <td>Ivory Coast</td>\n",
       "      <td>77</td>\n",
       "      <td>77</td>\n",
       "      <td>NaN</td>\n",
       "      <td>Left</td>\n",
       "      <td>2</td>\n",
       "      <td>3</td>\n",
       "      <td>3</td>\n",
       "      <td>High/ Low</td>\n",
       "      <td>ST</td>\n",
       "      <td>21</td>\n",
       "      <td>5.083333</td>\n",
       "      <td>176</td>\n",
       "    </tr>\n",
       "    <tr>\n",
       "      <th>1120</th>\n",
       "      <td>J. Villar</td>\n",
       "      <td>41</td>\n",
       "      <td>Paraguay</td>\n",
       "      <td>77</td>\n",
       "      <td>77</td>\n",
       "      <td>NaN</td>\n",
       "      <td>Right</td>\n",
       "      <td>2</td>\n",
       "      <td>3</td>\n",
       "      <td>1</td>\n",
       "      <td>Medium/ Medium</td>\n",
       "      <td>GK</td>\n",
       "      <td>1</td>\n",
       "      <td>5.083333</td>\n",
       "      <td>187</td>\n",
       "    </tr>\n",
       "    <tr>\n",
       "      <th>1271</th>\n",
       "      <td>C. Riveros</td>\n",
       "      <td>35</td>\n",
       "      <td>Paraguay</td>\n",
       "      <td>76</td>\n",
       "      <td>76</td>\n",
       "      <td>NaN</td>\n",
       "      <td>Right</td>\n",
       "      <td>1</td>\n",
       "      <td>3</td>\n",
       "      <td>3</td>\n",
       "      <td>Medium/ Medium</td>\n",
       "      <td>CAM</td>\n",
       "      <td>16</td>\n",
       "      <td>5.083333</td>\n",
       "      <td>163</td>\n",
       "    </tr>\n",
       "    <tr>\n",
       "      <th>1352</th>\n",
       "      <td>B. DzsudzsÃ¡k</td>\n",
       "      <td>31</td>\n",
       "      <td>Hungary</td>\n",
       "      <td>76</td>\n",
       "      <td>76</td>\n",
       "      <td>NaN</td>\n",
       "      <td>Left</td>\n",
       "      <td>3</td>\n",
       "      <td>4</td>\n",
       "      <td>4</td>\n",
       "      <td>Medium/ Medium</td>\n",
       "      <td>RW</td>\n",
       "      <td>7</td>\n",
       "      <td>5.083333</td>\n",
       "      <td>159</td>\n",
       "    </tr>\n",
       "    <tr>\n",
       "      <th>1602</th>\n",
       "      <td>Y. Gazinskiy</td>\n",
       "      <td>28</td>\n",
       "      <td>Russia</td>\n",
       "      <td>75</td>\n",
       "      <td>75</td>\n",
       "      <td>NaN</td>\n",
       "      <td>Left</td>\n",
       "      <td>1</td>\n",
       "      <td>4</td>\n",
       "      <td>3</td>\n",
       "      <td>Medium/ Medium</td>\n",
       "      <td>CDM</td>\n",
       "      <td>4</td>\n",
       "      <td>6.000000</td>\n",
       "      <td>165</td>\n",
       "    </tr>\n",
       "    <tr>\n",
       "      <th>1671</th>\n",
       "      <td>V. CÃ¡ceres</td>\n",
       "      <td>33</td>\n",
       "      <td>Paraguay</td>\n",
       "      <td>75</td>\n",
       "      <td>75</td>\n",
       "      <td>NaN</td>\n",
       "      <td>Right</td>\n",
       "      <td>1</td>\n",
       "      <td>3</td>\n",
       "      <td>3</td>\n",
       "      <td>Medium/ High</td>\n",
       "      <td>RDM</td>\n",
       "      <td>15</td>\n",
       "      <td>6.083333</td>\n",
       "      <td>181</td>\n",
       "    </tr>\n",
       "    <tr>\n",
       "      <th>1819</th>\n",
       "      <td>P. Tau</td>\n",
       "      <td>24</td>\n",
       "      <td>South Africa</td>\n",
       "      <td>75</td>\n",
       "      <td>81</td>\n",
       "      <td>NaN</td>\n",
       "      <td>Right</td>\n",
       "      <td>1</td>\n",
       "      <td>4</td>\n",
       "      <td>4</td>\n",
       "      <td>High/ Medium</td>\n",
       "      <td>RW</td>\n",
       "      <td>19</td>\n",
       "      <td>5.500000</td>\n",
       "      <td>143</td>\n",
       "    </tr>\n",
       "    <tr>\n",
       "      <th>1902</th>\n",
       "      <td>C. Cueva</td>\n",
       "      <td>26</td>\n",
       "      <td>Peru</td>\n",
       "      <td>75</td>\n",
       "      <td>75</td>\n",
       "      <td>NaN</td>\n",
       "      <td>Right</td>\n",
       "      <td>1</td>\n",
       "      <td>4</td>\n",
       "      <td>3</td>\n",
       "      <td>Medium/ Medium</td>\n",
       "      <td>LM</td>\n",
       "      <td>8</td>\n",
       "      <td>5.500000</td>\n",
       "      <td>134</td>\n",
       "    </tr>\n",
       "    <tr>\n",
       "      <th>1907</th>\n",
       "      <td>M. Mevlja</td>\n",
       "      <td>28</td>\n",
       "      <td>Slovenia</td>\n",
       "      <td>75</td>\n",
       "      <td>77</td>\n",
       "      <td>NaN</td>\n",
       "      <td>Right</td>\n",
       "      <td>1</td>\n",
       "      <td>3</td>\n",
       "      <td>2</td>\n",
       "      <td>Medium/ High</td>\n",
       "      <td>LCB</td>\n",
       "      <td>4</td>\n",
       "      <td>6.250000</td>\n",
       "      <td>183</td>\n",
       "    </tr>\n",
       "    <tr>\n",
       "      <th>1933</th>\n",
       "      <td>K. TraorÃ©</td>\n",
       "      <td>26</td>\n",
       "      <td>Ivory Coast</td>\n",
       "      <td>75</td>\n",
       "      <td>75</td>\n",
       "      <td>NaN</td>\n",
       "      <td>Left</td>\n",
       "      <td>1</td>\n",
       "      <td>3</td>\n",
       "      <td>4</td>\n",
       "      <td>High/ Low</td>\n",
       "      <td>CAM</td>\n",
       "      <td>8</td>\n",
       "      <td>5.083333</td>\n",
       "      <td>165</td>\n",
       "    </tr>\n",
       "    <tr>\n",
       "      <th>1936</th>\n",
       "      <td>K. Fofana</td>\n",
       "      <td>26</td>\n",
       "      <td>Ivory Coast</td>\n",
       "      <td>75</td>\n",
       "      <td>75</td>\n",
       "      <td>NaN</td>\n",
       "      <td>Right</td>\n",
       "      <td>1</td>\n",
       "      <td>3</td>\n",
       "      <td>3</td>\n",
       "      <td>Medium/ Medium</td>\n",
       "      <td>ST</td>\n",
       "      <td>22</td>\n",
       "      <td>6.166667</td>\n",
       "      <td>179</td>\n",
       "    </tr>\n",
       "    <tr>\n",
       "      <th>1964</th>\n",
       "      <td>V. Claesson</td>\n",
       "      <td>26</td>\n",
       "      <td>Sweden</td>\n",
       "      <td>75</td>\n",
       "      <td>78</td>\n",
       "      <td>NaN</td>\n",
       "      <td>Right</td>\n",
       "      <td>1</td>\n",
       "      <td>3</td>\n",
       "      <td>3</td>\n",
       "      <td>High/ High</td>\n",
       "      <td>RM</td>\n",
       "      <td>13</td>\n",
       "      <td>6.000000</td>\n",
       "      <td>174</td>\n",
       "    </tr>\n",
       "  </tbody>\n",
       "</table>\n",
       "</div>"
      ],
      "text/plain": [
       "               Name  Age   Nationality  Overall_rating  Potential Club  \\\n",
       "452      L. Paredes   24     Argentina              80         85  NaN   \n",
       "538    A. Granqvist   33        Sweden              80         80  NaN   \n",
       "568        A. Lunev   26        Russia              79         81  NaN   \n",
       "677    I. Smolnikov   29        Russia              79         79  NaN   \n",
       "874       A. Dzyuba   29        Russia              78         78  NaN   \n",
       "953      LuÃ­s Neto   30      Portugal              77         77  NaN   \n",
       "997      D. Kuzyaev   25        Russia              77         80  NaN   \n",
       "1008         G. Sio   29   Ivory Coast              77         77  NaN   \n",
       "1120      J. Villar   41      Paraguay              77         77  NaN   \n",
       "1271     C. Riveros   35      Paraguay              76         76  NaN   \n",
       "1352  B. DzsudzsÃ¡k   31       Hungary              76         76  NaN   \n",
       "1602   Y. Gazinskiy   28        Russia              75         75  NaN   \n",
       "1671    V. CÃ¡ceres   33      Paraguay              75         75  NaN   \n",
       "1819         P. Tau   24  South Africa              75         81  NaN   \n",
       "1902       C. Cueva   26          Peru              75         75  NaN   \n",
       "1907      M. Mevlja   28      Slovenia              75         77  NaN   \n",
       "1933     K. TraorÃ©   26   Ivory Coast              75         75  NaN   \n",
       "1936      K. Fofana   26   Ivory Coast              75         75  NaN   \n",
       "1964    V. Claesson   26        Sweden              75         78  NaN   \n",
       "\n",
       "     Preferred Foot  International Reputation  Weak Foot  Skill Moves  \\\n",
       "452           Right                         2          4            4   \n",
       "538           Right                         2          4            2   \n",
       "568           Right                         1          3            1   \n",
       "677           Right                         2          3            3   \n",
       "874           Right                         2          3            3   \n",
       "953           Right                         1          3            2   \n",
       "997           Right                         1          3            3   \n",
       "1008           Left                         2          3            3   \n",
       "1120          Right                         2          3            1   \n",
       "1271          Right                         1          3            3   \n",
       "1352           Left                         3          4            4   \n",
       "1602           Left                         1          4            3   \n",
       "1671          Right                         1          3            3   \n",
       "1819          Right                         1          4            4   \n",
       "1902          Right                         1          4            3   \n",
       "1907          Right                         1          3            2   \n",
       "1933           Left                         1          3            4   \n",
       "1936          Right                         1          3            3   \n",
       "1964          Right                         1          3            3   \n",
       "\n",
       "           Work Rate Position  Jersey Number    Height  Weight  \n",
       "452   Medium/ Medium       CM              5  5.083333     165  \n",
       "538     High/ Medium      LCB              4  6.333333     185  \n",
       "568   Medium/ Medium       GK             12  6.166667     176  \n",
       "677       High/ High       RB              2  5.083333     154  \n",
       "874     High/ Medium       ST             22  6.416667     201  \n",
       "953   Medium/ Medium       CB              4  6.166667     157  \n",
       "997     Medium/ High       RM              7  6.000000     163  \n",
       "1008       High/ Low       ST             21  5.083333     176  \n",
       "1120  Medium/ Medium       GK              1  5.083333     187  \n",
       "1271  Medium/ Medium      CAM             16  5.083333     163  \n",
       "1352  Medium/ Medium       RW              7  5.083333     159  \n",
       "1602  Medium/ Medium      CDM              4  6.000000     165  \n",
       "1671    Medium/ High      RDM             15  6.083333     181  \n",
       "1819    High/ Medium       RW             19  5.500000     143  \n",
       "1902  Medium/ Medium       LM              8  5.500000     134  \n",
       "1907    Medium/ High      LCB              4  6.250000     183  \n",
       "1933       High/ Low      CAM              8  5.083333     165  \n",
       "1936  Medium/ Medium       ST             22  6.166667     179  \n",
       "1964      High/ High       RM             13  6.000000     174  "
      ]
     },
     "execution_count": 10,
     "metadata": {},
     "output_type": "execute_result"
    }
   ],
   "source": [
    "# We would be handling the missing values before starting our basic EDA process.\n",
    "# This would more likely give us better statistical results\n",
    "# There are 19 missing values in the club column\n",
    "# we would first check those entries\n",
    "fifa.loc[fifa.Club.isnull(),:]"
   ]
  },
  {
   "cell_type": "code",
   "execution_count": 11,
   "id": "65e7e44c-424d-464f-a183-f0b9cac3aaaf",
   "metadata": {},
   "outputs": [],
   "source": [
    "# We don't have much else indication of what could be the clubs that are missing\n",
    "# So we would fill the none values with 'Free Agent'\n",
    "# This would ensure there are no null values in the data\n",
    "fifa.loc[fifa.Club.isnull(),'Club']='Free Agent'"
   ]
  },
  {
   "cell_type": "code",
   "execution_count": 12,
   "id": "75353519-025d-4823-8009-3d14f5cac710",
   "metadata": {},
   "outputs": [
    {
     "data": {
      "text/plain": [
       "Name                        0\n",
       "Age                         0\n",
       "Nationality                 0\n",
       "Overall_rating              0\n",
       "Potential                   0\n",
       "Club                        0\n",
       "Preferred Foot              0\n",
       "International Reputation    0\n",
       "Weak Foot                   0\n",
       "Skill Moves                 0\n",
       "Work Rate                   0\n",
       "Position                    0\n",
       "Jersey Number               0\n",
       "Height                      0\n",
       "Weight                      0\n",
       "dtype: int64"
      ]
     },
     "execution_count": 12,
     "metadata": {},
     "output_type": "execute_result"
    }
   ],
   "source": [
    "# Checking for missing values again\n",
    "fifa.isnull().sum()\n",
    "# Thus Data has no missing values now"
   ]
  },
  {
   "cell_type": "markdown",
   "id": "d7f668a9-a71d-4291-9de6-4ff6fc246822",
   "metadata": {},
   "source": [
    "## Basic Exploratory Data Analysis"
   ]
  },
  {
   "cell_type": "code",
   "execution_count": 13,
   "id": "f410893a-853a-4a87-98af-5e568b2e5f3f",
   "metadata": {},
   "outputs": [
    {
     "data": {
      "text/plain": [
       "Index(['Age', 'Overall_rating', 'Potential', 'International Reputation',\n",
       "       'Weak Foot', 'Skill Moves', 'Height', 'Weight'],\n",
       "      dtype='object')"
      ]
     },
     "execution_count": 13,
     "metadata": {},
     "output_type": "execute_result"
    }
   ],
   "source": [
    "fifa.select_dtypes(include=np.number).drop(columns='Jersey Number').columns"
   ]
  },
  {
   "cell_type": "code",
   "execution_count": 14,
   "id": "39dfca9c-61db-4226-82a5-2bb0ad68a1d9",
   "metadata": {},
   "outputs": [],
   "source": [
    "nums=['Age', 'Overall_rating', 'Potential', 'International Reputation',\n",
    "       'Weak Foot', 'Skill Moves', 'Height', 'Weight'] # These are all the numerical columns"
   ]
  },
  {
   "cell_type": "code",
   "execution_count": 15,
   "id": "e17f2f3f-1474-4c9d-8bdd-1ef85e1b207c",
   "metadata": {},
   "outputs": [
    {
     "data": {
      "image/png": "[encoded data removed]",
      "text/plain": [
       "<Figure size 720x576 with 8 Axes>"
      ]
     },
     "metadata": {
      "needs_background": "light"
     },
     "output_type": "display_data"
    }
   ],
   "source": [
    "rows=4\n",
    "cols=2\n",
    "counter=1\n",
    "plt.rcParams['figure.figsize']=[10,8]\n",
    "for i in nums:\n",
    "    plt.subplot(rows,cols,counter)\n",
    "    sns.distplot(fifa[i])\n",
    "    counter+=1\n",
    "\n",
    "plt.tight_layout()\n",
    "plt.show()"
   ]
  },
  {
   "cell_type": "code",
   "execution_count": 16,
   "id": "b2084124-f268-4a84-808e-6b868b5611ae",
   "metadata": {},
   "outputs": [
    {
     "data": {
      "text/plain": [
       "Index(['Nationality', 'Club', 'Preferred Foot', 'Work Rate', 'Position'], dtype='object')"
      ]
     },
     "execution_count": 16,
     "metadata": {},
     "output_type": "execute_result"
    }
   ],
   "source": [
    "fifa.select_dtypes(include=object).drop(columns='Name').columns"
   ]
  },
  {
   "cell_type": "code",
   "execution_count": 17,
   "id": "27300495-05a2-4035-babd-20a6852166c7",
   "metadata": {},
   "outputs": [],
   "source": [
    "cats=['Preferred Foot', 'Work Rate', 'Position'] # all categorical columns( we will plot clubs and nationality separately because of too many unique values)"
   ]
  },
  {
   "cell_type": "code",
   "execution_count": 18,
   "id": "ec780446-610a-4ae6-870f-520a5953fb0d",
   "metadata": {},
   "outputs": [
    {
     "data": {
      "image/png": "[encoded data removed]",
      "text/plain": [
       "<Figure size 720x576 with 3 Axes>"
      ]
     },
     "metadata": {
      "needs_background": "light"
     },
     "output_type": "display_data"
    }
   ],
   "source": [
    "rows=2\n",
    "cols=2\n",
    "counter=1\n",
    "plt.rcParams['figure.figsize']=[10,8]\n",
    "for i in cats:\n",
    "    plt.subplot(rows,cols,counter)\n",
    "    sns.countplot(fifa[i])\n",
    "    plt.xticks(rotation=60,ha='right')\n",
    "    counter+=1\n",
    "plt.tight_layout()\n",
    "plt.show()"
   ]
  },
  {
   "cell_type": "code",
   "execution_count": 19,
   "id": "3970ecac-00a3-4ec0-a243-74dfa67d8882",
   "metadata": {},
   "outputs": [
    {
     "data": {
      "image/png": "[encoded data removed]",
      "text/plain": [
       "<Figure size 720x576 with 1 Axes>"
      ]
     },
     "metadata": {
      "needs_background": "light"
     },
     "output_type": "display_data"
    }
   ],
   "source": [
    "fifa.Nationality.value_counts().sort_values(ascending=False).head(20).plot.bar(color='black')\n",
    "plt.title('Top 20 nationalities with maximum number of players')\n",
    "plt.xticks(rotation=60,ha='right')\n",
    "plt.show()"
   ]
  },
  {
   "cell_type": "code",
   "execution_count": 20,
   "id": "907aaebb-08ec-4ab5-8579-a846235cc866",
   "metadata": {},
   "outputs": [
    {
     "data": {
      "image/png": "[encoded data removed]",
      "text/plain": [
       "<Figure size 720x576 with 1 Axes>"
      ]
     },
     "metadata": {
      "needs_background": "light"
     },
     "output_type": "display_data"
    }
   ],
   "source": [
    "fifa.Club.value_counts().sort_values(ascending=False).head(20).plot.bar(color='black')\n",
    "plt.title('Top 20 Clubs with maximum number of players')\n",
    "plt.xticks(rotation=60,ha='right')\n",
    "plt.show()"
   ]
  },
  {
   "cell_type": "markdown",
   "id": "e3ceea91-b75e-438f-9775-7398b894221e",
   "metadata": {},
   "source": [
    "## Inferences from the basic Ananlysis\n",
    "\n",
    "* Age Column seems to be normally distributed\n",
    "* Overall rating seems to be right-skewed\n",
    "* Potential seems to be right-skewed as well\n",
    "* Internationtional reputaion seems to be multimodal with spikes at discrete points. It could indicate the column as discrete\n",
    "* Weak foot and skill moves seem to be multimodal and discrete as well\n",
    "* Height seems to be multimodal but not discrete\n",
    "* Weight seems to be normally distributed\n",
    "* There are more right-footed players than left footed\n",
    "* Medium/Medium seems to be the most frequent work rate\n",
    "* GK is the most common position in the data"
   ]
  },
  {
   "cell_type": "markdown",
   "id": "7d405528-f31b-4567-986f-87ed18031a7c",
   "metadata": {},
   "source": [
    "## Statistical Analysis"
   ]
  },
  {
   "cell_type": "markdown",
   "id": "cf419088-f5ee-487b-ac95-1098af68bced",
   "metadata": {},
   "source": [
    "#### Q1: a)\tAssuming age as population, perform the central limit theorem with sample size of 200. Find the standard error and the mean of sampling distribution. Compare the results with population mean and standard deviation. Explain in non-technical terms why the estimated standard error of a sample mean tends to decrease with an increase in sample size"
   ]
  },
  {
   "cell_type": "code",
   "execution_count": 21,
   "id": "f732ad6f-c9dc-493a-b3d7-6dd59593dfca",
   "metadata": {},
   "outputs": [],
   "source": [
    "# For the following statistical analysis we would assumes all the given distributions as normal and equality of variances hold\n",
    "# We would perform the analysis on a 5% significance level"
   ]
  },
  {
   "cell_type": "code",
   "execution_count": 22,
   "id": "6d8bb77e-4385-4b1f-ba1f-bf4676804377",
   "metadata": {},
   "outputs": [
    {
     "name": "stdout",
     "output_type": "stream",
     "text": [
      "Population Mean: 27.2315\n",
      "Sample mean: 27.315\n",
      "Population Standard Deviation: 3.8590612753574423\n",
      "Sample Standard Deviation: 3.912259577277561\n",
      "Standard Error: 0.2728768396819654\n"
     ]
    }
   ],
   "source": [
    "import random\n",
    "mew=fifa.Age.mean() # Population mean\n",
    "sample1=random.sample(sorted(fifa.Age),200) # Random sample of size 200 from the Age column\n",
    "n=200 # Size of the sample\n",
    "popsd=fifa.Age.std() # Population standard deviation\n",
    "se=popsd/np.sqrt(n) # Standard error of the sample\n",
    "xbar=np.mean(sample1) # Sample mean\n",
    "samplesd=np.std(sample1) # Sample standard deviation\n",
    "print('Population Mean:',mew)\n",
    "print('Sample mean:',xbar)\n",
    "print('Population Standard Deviation:',popsd)\n",
    "print('Sample Standard Deviation:', samplesd)\n",
    "print('Standard Error:',se)"
   ]
  },
  {
   "cell_type": "code",
   "execution_count": 23,
   "id": "e3f361b5-8223-4e20-835c-158d3bc619b9",
   "metadata": {},
   "outputs": [],
   "source": [
    "# Central Limit Theorem States that the distribution of sample means approximates the population mean\n",
    "# as the sample size increases and a sample of sample size greater than 30 is assumed to be normally distributed"
   ]
  },
  {
   "cell_type": "code",
   "execution_count": 24,
   "id": "f07fcae7-b367-435c-ac59-e2ed48dcd2ba",
   "metadata": {},
   "outputs": [],
   "source": [
    "# The estimated standard error of a sample mean tends to decrease with increase in sample size\n",
    "# This is because as the sample size increases the distribution of the sample becomes closer(or more identical)\n",
    "# to the distribution of the population\n",
    "# Hence we observe that the estimated standard error decreases with increase in sample size"
   ]
  },
  {
   "cell_type": "markdown",
   "id": "9744ba2e-d290-4fc2-b2af-567622bed405",
   "metadata": {},
   "source": [
    "#### b)Is there any evidence that the players overall rating is greater than 80?"
   ]
  },
  {
   "cell_type": "code",
   "execution_count": 25,
   "id": "22a91abf-4beb-4f94-8fb2-9939d06972ee",
   "metadata": {},
   "outputs": [
    {
     "data": {
      "text/plain": [
       "Ttest_1sampResult(statistic=-24.538460498672062, pvalue=1.885376780327322e-116)"
      ]
     },
     "execution_count": 25,
     "metadata": {},
     "output_type": "execute_result"
    }
   ],
   "source": [
    "# Test this we will define our null hypothesis\n",
    "# Null Hypothesis: Average overall rating=80\n",
    "# Alternative Hypothesis: Average overall rating!=80\n",
    "stats.ttest_1samp(fifa.Overall_rating,80)"
   ]
  },
  {
   "cell_type": "code",
   "execution_count": 26,
   "id": "77a95c69-95fd-4515-ab28-13204c043a2a",
   "metadata": {},
   "outputs": [],
   "source": [
    "# From the above test we see that our pvalue is extremely small compared to the significance level\n",
    "# Hence we would reject our Null Hypothesis. Thus Average overall rating is not equal to 80\n",
    "# We also see that our test statistic is negative which means that our actual mean is less than 80 and not greater than 80"
   ]
  },
  {
   "cell_type": "markdown",
   "id": "3f103d9f-d9ef-449a-9331-c309a78281f0",
   "metadata": {},
   "source": [
    "#### c)Perform the statistical test to identify whether preferred foot has any impact on potential. Also, perform the graphical analysis."
   ]
  },
  {
   "cell_type": "code",
   "execution_count": 27,
   "id": "4dbebef9-830d-4a73-8b83-7d1509b3ee15",
   "metadata": {},
   "outputs": [
    {
     "data": {
      "image/png": "[encoded data removed]",
      "text/plain": [
       "<Figure size 720x576 with 1 Axes>"
      ]
     },
     "metadata": {
      "needs_background": "light"
     },
     "output_type": "display_data"
    }
   ],
   "source": [
    "# Graphically we would make a boxplot \n",
    "sns.boxplot(x='Preferred Foot',y='Potential',data=fifa)\n",
    "plt.show()"
   ]
  },
  {
   "cell_type": "code",
   "execution_count": 28,
   "id": "3af2ecbf-c337-4406-8e38-92fe0dfb5361",
   "metadata": {},
   "outputs": [],
   "source": [
    "# From the above boxplot it seems that the potential of left-footed players are slightly higher than the right-footed player\n",
    "# To test this we would apply a two sample t-test"
   ]
  },
  {
   "cell_type": "code",
   "execution_count": 29,
   "id": "dd87f29c-8c6a-4100-bc87-89c9694666ed",
   "metadata": {},
   "outputs": [
    {
     "data": {
      "text/plain": [
       "Ttest_indResult(statistic=-1.5378037422592814, pvalue=0.12425494914461453)"
      ]
     },
     "execution_count": 29,
     "metadata": {},
     "output_type": "execute_result"
    }
   ],
   "source": [
    "# Null Hypothesis: Preffered foot has no effect on potential\n",
    "# Alternate Hypothesis: Preferred foot has an effect on potential\n",
    "right=fifa.loc[fifa['Preferred Foot']=='Right','Potential']\n",
    "left=fifa.loc[fifa['Preferred Foot']=='Left','Potential']\n",
    "stats.ttest_ind(right,left)"
   ]
  },
  {
   "cell_type": "code",
   "execution_count": 30,
   "id": "797950bc-9ecd-463a-8e41-1e6a26c15972",
   "metadata": {},
   "outputs": [],
   "source": [
    "# Since this was a two tail test the significance level in this case would 0.025\n",
    "# From the ttest we get that the pvalue is significantly bigger than the significance level\n",
    "# Hence we fail to reject our null hypothesis\n",
    "# Andthus our conclusion is that the preferred foot has no effect on potential"
   ]
  },
  {
   "cell_type": "markdown",
   "id": "381627d0-35b5-4179-adb2-3b9957dbfa86",
   "metadata": {},
   "source": [
    "#### d)Perform the statistical test to identify the relation between the overall rating and potential. [Assume both are continuous data points]."
   ]
  },
  {
   "cell_type": "code",
   "execution_count": 31,
   "id": "5b5572e9-5e0f-495e-a35b-a358e070f0a9",
   "metadata": {},
   "outputs": [],
   "source": [
    "# To check the relation between the overall rating and potential, we would apply a 2 sample ttest\n",
    "# Null Hypothesis: Overall rating and Potential have no relation\n",
    "# Alternate Hypothesis: Overall rating and potential have a relationship"
   ]
  },
  {
   "cell_type": "code",
   "execution_count": 32,
   "id": "0ff78c10-d62f-4213-97c5-0fee88707303",
   "metadata": {},
   "outputs": [
    {
     "data": {
      "text/plain": [
       "Ttest_indResult(statistic=-17.89175319557915, pvalue=6.241604310936382e-69)"
      ]
     },
     "execution_count": 32,
     "metadata": {},
     "output_type": "execute_result"
    }
   ],
   "source": [
    "stats.ttest_ind(fifa.Overall_rating,fifa.Potential)"
   ]
  },
  {
   "cell_type": "code",
   "execution_count": 33,
   "id": "594ae662-d8e6-43da-8cf8-5cb83dd5174c",
   "metadata": {},
   "outputs": [],
   "source": [
    "# From the statistical test we see that the p value is extremely small than our significance level\n",
    "# Hence we reject our null hypothesis\n",
    "# Thus our conclusion would be that the Overall rating and Potential are related"
   ]
  },
  {
   "cell_type": "markdown",
   "id": "210ae24a-f79d-421d-a3c0-11d762fcf13b",
   "metadata": {},
   "source": [
    "#### e)Does skill move have any effect in overall rating? Perform the graphical analysis and the statistical analysis."
   ]
  },
  {
   "cell_type": "code",
   "execution_count": 34,
   "id": "9ca8f162-5a34-4631-b8ba-db1c9c03f557",
   "metadata": {},
   "outputs": [
    {
     "data": {
      "image/png": "[encoded data removed]",
      "text/plain": [
       "<Figure size 720x576 with 1 Axes>"
      ]
     },
     "metadata": {
      "needs_background": "light"
     },
     "output_type": "display_data"
    }
   ],
   "source": [
    "# For graphical analysis we would be making a boxplot\n",
    "sns.boxplot(x='Skill Moves',y='Overall_rating',data=fifa)\n",
    "plt.show()"
   ]
  },
  {
   "cell_type": "code",
   "execution_count": 35,
   "id": "73103d19-3cdc-47f2-bddd-46c2955ffcb6",
   "metadata": {},
   "outputs": [],
   "source": [
    "# From the above boxplot we can see that 5 skill move palyers have the highest overalls \n",
    "# This also indicates a relationship between overall_rating and skill moves\n",
    "# We would further statistically test the hypothesis"
   ]
  },
  {
   "cell_type": "code",
   "execution_count": 36,
   "id": "3063ad69-ffd2-4fdf-ba46-964d94e2ae91",
   "metadata": {},
   "outputs": [
    {
     "data": {
      "text/plain": [
       "Ttest_indResult(statistic=-983.0720466249821, pvalue=0.0)"
      ]
     },
     "execution_count": 36,
     "metadata": {},
     "output_type": "execute_result"
    }
   ],
   "source": [
    "# Null Hypothesis: Skill move has no effect on Overall Rating\n",
    "# Alternate Hypothesis: Skill move has an effect on Overall rating\n",
    "# We would apply a two sample ttest to apply test our hypothesis\n",
    "stats.ttest_ind(fifa['Skill Moves'],fifa.Overall_rating)"
   ]
  },
  {
   "cell_type": "code",
   "execution_count": 37,
   "id": "71999060-f970-474a-96fc-822b76920f28",
   "metadata": {},
   "outputs": [],
   "source": [
    "# Here we get a pvalue of 0 which is less than our significance level\n",
    "# Hence we reject our null hypothesis\n",
    "# which means that skill moves has an effect on the overall_rating"
   ]
  },
  {
   "cell_type": "markdown",
   "id": "7981a1cd-50c6-4a1b-b34b-66610370a938",
   "metadata": {},
   "source": [
    "# Mobile Network Dataset"
   ]
  },
  {
   "cell_type": "markdown",
   "id": "210f0d13-32c9-4b92-baa4-90b266e86777",
   "metadata": {},
   "source": [
    "#### The given data set contains information about the internet, calls, and messages of various network."
   ]
  },
  {
   "cell_type": "code",
   "execution_count": 38,
   "id": "62e94782-4d59-4696-8f5f-145c7839a6dd",
   "metadata": {},
   "outputs": [],
   "source": [
    "df=pd.read_csv(r'C:\\Users\\SUHANSHU\\Downloads\\Statistics Mini Project (1)\\Statistics Mini Project\\phone.csv')"
   ]
  },
  {
   "cell_type": "code",
   "execution_count": 39,
   "id": "da402b29-e1f9-41f8-a175-abf2bec72ed7",
   "metadata": {},
   "outputs": [
    {
     "data": {
      "text/html": [
       "<div>\n",
       "<style scoped>\n",
       "    .dataframe tbody tr th:only-of-type {\n",
       "        vertical-align: middle;\n",
       "    }\n",
       "\n",
       "    .dataframe tbody tr th {\n",
       "        vertical-align: top;\n",
       "    }\n",
       "\n",
       "    .dataframe thead th {\n",
       "        text-align: right;\n",
       "    }\n",
       "</style>\n",
       "<table border=\"1\" class=\"dataframe\">\n",
       "  <thead>\n",
       "    <tr style=\"text-align: right;\">\n",
       "      <th></th>\n",
       "      <th>date</th>\n",
       "      <th>duration</th>\n",
       "      <th>item</th>\n",
       "      <th>month</th>\n",
       "      <th>network</th>\n",
       "      <th>network_type</th>\n",
       "    </tr>\n",
       "  </thead>\n",
       "  <tbody>\n",
       "    <tr>\n",
       "      <th>0</th>\n",
       "      <td>15-10-14 6:58</td>\n",
       "      <td>221.321120</td>\n",
       "      <td>data</td>\n",
       "      <td>2014-11</td>\n",
       "      <td>data</td>\n",
       "      <td>data</td>\n",
       "    </tr>\n",
       "    <tr>\n",
       "      <th>1</th>\n",
       "      <td>15-10-14 6:58</td>\n",
       "      <td>81.610599</td>\n",
       "      <td>call</td>\n",
       "      <td>2014-11</td>\n",
       "      <td>Vodafone</td>\n",
       "      <td>mobile</td>\n",
       "    </tr>\n",
       "    <tr>\n",
       "      <th>2</th>\n",
       "      <td>15-10-14 14:46</td>\n",
       "      <td>143.109111</td>\n",
       "      <td>call</td>\n",
       "      <td>2014-11</td>\n",
       "      <td>Meteor</td>\n",
       "      <td>mobile</td>\n",
       "    </tr>\n",
       "    <tr>\n",
       "      <th>3</th>\n",
       "      <td>15-10-14 14:48</td>\n",
       "      <td>111.888670</td>\n",
       "      <td>call</td>\n",
       "      <td>2014-11</td>\n",
       "      <td>Tesco</td>\n",
       "      <td>mobile</td>\n",
       "    </tr>\n",
       "    <tr>\n",
       "      <th>4</th>\n",
       "      <td>15-10-14 17:27</td>\n",
       "      <td>246.695171</td>\n",
       "      <td>call</td>\n",
       "      <td>2014-11</td>\n",
       "      <td>Tesco</td>\n",
       "      <td>mobile</td>\n",
       "    </tr>\n",
       "  </tbody>\n",
       "</table>\n",
       "</div>"
      ],
      "text/plain": [
       "             date    duration  item    month   network network_type\n",
       "0   15-10-14 6:58  221.321120  data  2014-11      data         data\n",
       "1   15-10-14 6:58   81.610599  call  2014-11  Vodafone       mobile\n",
       "2  15-10-14 14:46  143.109111  call  2014-11    Meteor       mobile\n",
       "3  15-10-14 14:48  111.888670  call  2014-11     Tesco       mobile\n",
       "4  15-10-14 17:27  246.695171  call  2014-11     Tesco       mobile"
      ]
     },
     "execution_count": 39,
     "metadata": {},
     "output_type": "execute_result"
    }
   ],
   "source": [
    "# First 5 rows of the data\n",
    "df.head()"
   ]
  },
  {
   "cell_type": "code",
   "execution_count": 40,
   "id": "a83964fc-0f6b-4d9f-aecf-d79d92893069",
   "metadata": {},
   "outputs": [
    {
     "name": "stdout",
     "output_type": "stream",
     "text": [
      "<class 'pandas.core.frame.DataFrame'>\n",
      "RangeIndex: 820 entries, 0 to 819\n",
      "Data columns (total 6 columns):\n",
      " #   Column        Non-Null Count  Dtype  \n",
      "---  ------        --------------  -----  \n",
      " 0   date          820 non-null    object \n",
      " 1   duration      820 non-null    float64\n",
      " 2   item          820 non-null    object \n",
      " 3   month         820 non-null    object \n",
      " 4   network       820 non-null    object \n",
      " 5   network_type  820 non-null    object \n",
      "dtypes: float64(1), object(5)\n",
      "memory usage: 38.6+ KB\n"
     ]
    }
   ],
   "source": [
    "# Info of the data\n",
    "df.info()"
   ]
  },
  {
   "cell_type": "code",
   "execution_count": 41,
   "id": "7ef8df4b-f95b-4d71-a291-ba7f7953d00d",
   "metadata": {},
   "outputs": [
    {
     "data": {
      "text/html": [
       "<div>\n",
       "<style scoped>\n",
       "    .dataframe tbody tr th:only-of-type {\n",
       "        vertical-align: middle;\n",
       "    }\n",
       "\n",
       "    .dataframe tbody tr th {\n",
       "        vertical-align: top;\n",
       "    }\n",
       "\n",
       "    .dataframe thead th {\n",
       "        text-align: right;\n",
       "    }\n",
       "</style>\n",
       "<table border=\"1\" class=\"dataframe\">\n",
       "  <thead>\n",
       "    <tr style=\"text-align: right;\">\n",
       "      <th></th>\n",
       "      <th>duration</th>\n",
       "    </tr>\n",
       "  </thead>\n",
       "  <tbody>\n",
       "    <tr>\n",
       "      <th>count</th>\n",
       "      <td>820.000000</td>\n",
       "    </tr>\n",
       "    <tr>\n",
       "      <th>mean</th>\n",
       "      <td>144.304936</td>\n",
       "    </tr>\n",
       "    <tr>\n",
       "      <th>std</th>\n",
       "      <td>45.687777</td>\n",
       "    </tr>\n",
       "    <tr>\n",
       "      <th>min</th>\n",
       "      <td>0.993514</td>\n",
       "    </tr>\n",
       "    <tr>\n",
       "      <th>25%</th>\n",
       "      <td>112.916486</td>\n",
       "    </tr>\n",
       "    <tr>\n",
       "      <th>50%</th>\n",
       "      <td>144.179434</td>\n",
       "    </tr>\n",
       "    <tr>\n",
       "      <th>75%</th>\n",
       "      <td>175.932308</td>\n",
       "    </tr>\n",
       "    <tr>\n",
       "      <th>max</th>\n",
       "      <td>268.458090</td>\n",
       "    </tr>\n",
       "  </tbody>\n",
       "</table>\n",
       "</div>"
      ],
      "text/plain": [
       "         duration\n",
       "count  820.000000\n",
       "mean   144.304936\n",
       "std     45.687777\n",
       "min      0.993514\n",
       "25%    112.916486\n",
       "50%    144.179434\n",
       "75%    175.932308\n",
       "max    268.458090"
      ]
     },
     "execution_count": 41,
     "metadata": {},
     "output_type": "execute_result"
    }
   ],
   "source": [
    "# Summary statistics\n",
    "df.describe()"
   ]
  },
  {
   "cell_type": "code",
   "execution_count": 42,
   "id": "82a7f3ee-eddd-4ce8-a05b-5b536e7eb78e",
   "metadata": {},
   "outputs": [
    {
     "data": {
      "text/plain": [
       "(820, 6)"
      ]
     },
     "execution_count": 42,
     "metadata": {},
     "output_type": "execute_result"
    }
   ],
   "source": [
    "# Shape of the data\n",
    "df.shape"
   ]
  },
  {
   "cell_type": "code",
   "execution_count": 43,
   "id": "a48f444c-d13d-4572-b530-a13bb7c7feba",
   "metadata": {},
   "outputs": [
    {
     "data": {
      "text/plain": [
       "date            0\n",
       "duration        0\n",
       "item            0\n",
       "month           0\n",
       "network         0\n",
       "network_type    0\n",
       "dtype: int64"
      ]
     },
     "execution_count": 43,
     "metadata": {},
     "output_type": "execute_result"
    }
   ],
   "source": [
    "# Checking for missing values\n",
    "df.isnull().sum()\n",
    "# Data has no missing values"
   ]
  },
  {
   "cell_type": "markdown",
   "id": "39658a1a-8215-4a49-81f8-a8e52e67d44f",
   "metadata": {},
   "source": [
    "## Basic Exploratory Data Analysis"
   ]
  },
  {
   "cell_type": "code",
   "execution_count": 44,
   "id": "06bfdfdf-8236-49e1-996d-75d77b4541f6",
   "metadata": {},
   "outputs": [
    {
     "data": {
      "image/png": "[encoded data removed]",
      "text/plain": [
       "<Figure size 720x576 with 1 Axes>"
      ]
     },
     "metadata": {
      "needs_background": "light"
     },
     "output_type": "display_data"
    }
   ],
   "source": [
    "# The only numerical column in the data is the duration column\n",
    "# So we would check the distribution of this column\n",
    "sns.distplot(df.duration)\n",
    "plt.show()"
   ]
  },
  {
   "cell_type": "code",
   "execution_count": 45,
   "id": "644f4165-4667-41f3-91df-d594ff62fdfa",
   "metadata": {},
   "outputs": [
    {
     "data": {
      "text/plain": [
       "Index(['item', 'month', 'network', 'network_type'], dtype='object')"
      ]
     },
     "execution_count": 45,
     "metadata": {},
     "output_type": "execute_result"
    }
   ],
   "source": [
    "df.select_dtypes(include=object).drop(columns='date').columns"
   ]
  },
  {
   "cell_type": "code",
   "execution_count": 46,
   "id": "aacdc3d9-6956-4baf-9058-205ac5fe8437",
   "metadata": {},
   "outputs": [],
   "source": [
    "cats=['item', 'month', 'network', 'network_type']# All categorical columns"
   ]
  },
  {
   "cell_type": "code",
   "execution_count": 47,
   "id": "81ea0e89-d6cc-4450-a733-f6a5290e1a97",
   "metadata": {},
   "outputs": [
    {
     "data": {
      "image/png": "[encoded data removed]",
      "text/plain": [
       "<Figure size 720x576 with 4 Axes>"
      ]
     },
     "metadata": {
      "needs_background": "light"
     },
     "output_type": "display_data"
    }
   ],
   "source": [
    "# Making multiple countplots\n",
    "rows=2\n",
    "cols=2\n",
    "counter=1\n",
    "plt.rcParams['figure.figsize']=[10,8]\n",
    "for i in cats:\n",
    "    plt.subplot(rows,cols,counter)\n",
    "    sns.countplot(x=i,data=df)\n",
    "    plt.xticks(rotation=60,ha='right')\n",
    "    counter+=1\n",
    "plt.tight_layout()\n",
    "plt.show()"
   ]
  },
  {
   "cell_type": "markdown",
   "id": "12e4fdea-2adf-415f-8f50-8469659ddd86",
   "metadata": {},
   "source": [
    "## Inferences from our Basic Exploratory Data Analysis\n",
    "\n",
    "* The only numerical column in the data (duration) seems to be normally distributed\n",
    "* The usage of calls is maximum compared to sms and internet data\n",
    "* November 2014 seems to have been the busiest time in the data\n",
    "* Vodafone leads in the count of usage\n",
    "* Usage of mobile is substantially more compared to data, voicemail and landline"
   ]
  },
  {
   "cell_type": "markdown",
   "id": "440c1f88-da32-4797-b668-e43e3d7cd28c",
   "metadata": {},
   "source": [
    "## Statistical Analysis"
   ]
  },
  {
   "cell_type": "code",
   "execution_count": 48,
   "id": "42b02740-10e5-4d79-b003-0816cf8f025e",
   "metadata": {},
   "outputs": [],
   "source": [
    "# The following statistical analysis would be done on a 5% significance level\n",
    "# Tests for normality and equality of variance will be done wherever required"
   ]
  },
  {
   "cell_type": "markdown",
   "id": "9056615e-5875-42e6-a14e-ec0e51d13dbb",
   "metadata": {},
   "source": [
    "#### a) With 95% & 99% Confidence Interval, find the range estimate of average duration calls made by the entire network. Which of the Intervals are wider? Interpret the results."
   ]
  },
  {
   "cell_type": "code",
   "execution_count": 49,
   "id": "0c873dc5-57ad-4790-b167-a21333c292d6",
   "metadata": {},
   "outputs": [
    {
     "data": {
      "text/plain": [
       "ShapiroResult(statistic=0.9984679818153381, pvalue=0.701244592666626)"
      ]
     },
     "execution_count": 49,
     "metadata": {},
     "output_type": "execute_result"
    }
   ],
   "source": [
    "# Testing normality of the duration column\n",
    "stats.shapiro(df.duration)"
   ]
  },
  {
   "cell_type": "code",
   "execution_count": 50,
   "id": "c84cf754-5417-4680-98fd-8245c8b82e62",
   "metadata": {},
   "outputs": [],
   "source": [
    "# Here we have pvalue considerably larger than the significant levels of 0.05 and 0.01\n",
    "# So we proceed with our 1 sample ttest"
   ]
  },
  {
   "cell_type": "code",
   "execution_count": 51,
   "id": "b2e29af1-3d88-4651-88b3-8ffe5906d8f5",
   "metadata": {},
   "outputs": [],
   "source": [
    "# For 95% confidence level\n",
    "cl=0.95 # Confidence level\n",
    "alpha=1-cl # Significance level\n",
    "xbar=df.duration.mean()# Sample mean\n",
    "n=len(df.duration) # Sample size\n",
    "s=np.std(df.duration) # Sample Standard deviation\n",
    "t_crit=stats.t.isf(alpha/2,n-1) # t_critical value. We are providing alpha/2 since it's a two-tail test\n",
    "se=s/np.sqrt(n) # Standard error\n",
    "ci_95=(xbar-t_crit*se,xbar+t_crit*se) # Confidence interval for 95% confidence level"
   ]
  },
  {
   "cell_type": "code",
   "execution_count": 52,
   "id": "c14b9b67-a59e-49b4-b4e0-6ce854a4c8cd",
   "metadata": {},
   "outputs": [],
   "source": [
    "# For 95% confidence level\n",
    "cl=0.99 # Confidence level\n",
    "alpha=1-cl # Significance level\n",
    "xbar=df.duration.mean()# Sample mean\n",
    "n=len(df.duration) # Sample size\n",
    "s=np.std(df.duration) # Sample Standard deviation\n",
    "t_crit=stats.t.isf(alpha/2,n-1) # t_critical value. We are providing alpha/2 since it's a two-tail test\n",
    "se=s/np.sqrt(n) # Standard error\n",
    "ci_99=(xbar-t_crit*se,xbar+t_crit*se) # Confidence interval for 95% confidence level"
   ]
  },
  {
   "cell_type": "code",
   "execution_count": 53,
   "id": "dc7e616c-9d26-4a08-861b-59c06223a0c2",
   "metadata": {},
   "outputs": [
    {
     "data": {
      "text/plain": [
       "((141.17512177828408, 147.43474934138683),\n",
       " (140.188148607254, 148.42172251241692))"
      ]
     },
     "execution_count": 53,
     "metadata": {},
     "output_type": "execute_result"
    }
   ],
   "source": [
    "ci_95,ci_99"
   ]
  },
  {
   "cell_type": "code",
   "execution_count": 54,
   "id": "5d0f1a6d-b133-454e-ac54-a500c01b2dcd",
   "metadata": {},
   "outputs": [],
   "source": [
    "# As we can clearly see, the confidence interval for 99% confidence level is wider than the confidence interval for 95%\n",
    "# This means that as the confidence level increases, our confidence interval increases"
   ]
  },
  {
   "cell_type": "markdown",
   "id": "abb25fa8-2039-4868-913e-3a6319c79827",
   "metadata": {},
   "source": [
    "#### b) Perform statistical analysis to check whether the networks are equally distributed in the dataset."
   ]
  },
  {
   "cell_type": "code",
   "execution_count": null,
   "id": "7450031c-94d9-4da2-a035-f53eb2b37253",
   "metadata": {},
   "outputs": [],
   "source": []
  },
  {
   "cell_type": "code",
   "execution_count": null,
   "id": "0ea37775-c0d3-4386-809b-0505872da9ea",
   "metadata": {},
   "outputs": [],
   "source": []
  },
  {
   "cell_type": "markdown",
   "id": "f8f0463f-fae3-4dde-b176-19e8f843ce75",
   "metadata": {},
   "source": [
    "#### c) Plot the distribution of duration with respect to each network in the same graph and interpret the results from the graph."
   ]
  },
  {
   "cell_type": "code",
   "execution_count": 55,
   "id": "85974293-60ce-491c-9662-15f1361c2695",
   "metadata": {},
   "outputs": [
    {
     "data": {
      "image/png": "[encoded data removed]",
      "text/plain": [
       "<Figure size 720x576 with 1 Axes>"
      ]
     },
     "metadata": {
      "needs_background": "light"
     },
     "output_type": "display_data"
    }
   ],
   "source": [
    "# We will use boxplot to plot the distribution of duration with respect to each network\n",
    "sns.boxplot(x='network',y='duration',data=df)\n",
    "plt.show()"
   ]
  },
  {
   "cell_type": "markdown",
   "id": "87ca4a53-2f97-45b6-94a8-763969a7f597",
   "metadata": {},
   "source": [
    "#### d)\tPerform statistical tests to identify the relation between item and duration. Detailed explanation of relation between the classes is required."
   ]
  },
  {
   "cell_type": "code",
   "execution_count": 56,
   "id": "205ba958-dafe-469a-a3fa-5dcdb272a427",
   "metadata": {},
   "outputs": [],
   "source": [
    "# If item and duration have no relation then the mean should be uniform across all the groups in item column"
   ]
  },
  {
   "cell_type": "code",
   "execution_count": 57,
   "id": "361b9031-bc5c-4ca9-b62f-cb8d9abb7a75",
   "metadata": {},
   "outputs": [
    {
     "data": {
      "text/plain": [
       "array(['data', 'call', 'sms'], dtype=object)"
      ]
     },
     "execution_count": 57,
     "metadata": {},
     "output_type": "execute_result"
    }
   ],
   "source": [
    "# finding unique values in \n",
    "df.item.unique()"
   ]
  },
  {
   "cell_type": "code",
   "execution_count": 58,
   "id": "1771c482-9461-4bd0-8762-32e7b55b35d9",
   "metadata": {},
   "outputs": [],
   "source": [
    "# Grouping the duration columns\n",
    "data=df.loc[df.item=='data','duration']\n",
    "call=df.loc[df.item=='call','duration']\n",
    "sms=df.loc[df.item=='sms','duration']"
   ]
  },
  {
   "cell_type": "code",
   "execution_count": 59,
   "id": "5588d9a3-eceb-47d3-b1cc-7ba9aa340b8c",
   "metadata": {},
   "outputs": [
    {
     "data": {
      "text/plain": [
       "(ShapiroResult(statistic=0.9912639856338501, pvalue=0.48521795868873596),\n",
       " ShapiroResult(statistic=0.9973042011260986, pvalue=0.7803382277488708),\n",
       " ShapiroResult(statistic=0.9943404197692871, pvalue=0.37839275598526))"
      ]
     },
     "execution_count": 59,
     "metadata": {},
     "output_type": "execute_result"
    }
   ],
   "source": [
    "# Normality test\n",
    "stats.shapiro(data),stats.shapiro(call),stats.shapiro(sms)"
   ]
  },
  {
   "cell_type": "code",
   "execution_count": 60,
   "id": "942dc261-d9c5-4ce4-b190-e66d0260e3c4",
   "metadata": {},
   "outputs": [
    {
     "data": {
      "text/plain": [
       "LeveneResult(statistic=3.4300976447008478, pvalue=0.03285087780533987)"
      ]
     },
     "execution_count": 60,
     "metadata": {},
     "output_type": "execute_result"
    }
   ],
   "source": [
    "# From the above test we can say that all three samples \n",
    "# are normally distributed as the pvalues are greater than the significance level of 0.05\n",
    "# Now we will check for equality of variance\n",
    "# For that we will apply the Levene's test\n",
    "stats.levene(sms,call,data)"
   ]
  },
  {
   "cell_type": "code",
   "execution_count": 61,
   "id": "234ff455-1622-4a46-9510-159bc5e35b7f",
   "metadata": {},
   "outputs": [],
   "source": [
    "# From the above levene test we can see that the 3 samples do not satisfy the equality of variances\n",
    "# Hence we cannot apply any parametric tests on them\n",
    "# Thus we would have to perform non-parametric tests on the three groups\n",
    "# For this we would use the Kruskal-Wallis H-Test"
   ]
  },
  {
   "cell_type": "code",
   "execution_count": 62,
   "id": "46df2911-170e-4878-b07b-e5d4d0a2e675",
   "metadata": {},
   "outputs": [
    {
     "data": {
      "text/plain": [
       "KruskalResult(statistic=3.5659414348706377, pvalue=0.16813791437741693)"
      ]
     },
     "execution_count": 62,
     "metadata": {},
     "output_type": "execute_result"
    }
   ],
   "source": [
    "# Null Hypothesis: Item has no impact on duration\n",
    "# Alternate Hypothesis: Item has an impact on duration\n",
    "stats.kruskal(data,call,sms) # Kruskal Wallis H-Test"
   ]
  },
  {
   "cell_type": "code",
   "execution_count": 63,
   "id": "69ac5298-765e-436d-bcc8-fda009a118ea",
   "metadata": {},
   "outputs": [],
   "source": [
    "# Here the pvalue is greater than our significance level of 0.05\n",
    "# Thus we fail to reject the null hypothesis\n",
    "# Hence we come to the conclusion that Item has no impact on duration "
   ]
  },
  {
   "cell_type": "markdown",
   "id": "f3860c70-6fc9-46be-bc31-07bb77683093",
   "metadata": {},
   "source": [
    "#### e)\tPerform statistical tests to identify the relation between network and network_type. "
   ]
  },
  {
   "cell_type": "code",
   "execution_count": 64,
   "id": "5516d76b-a843-423b-bb70-3e9633442e8e",
   "metadata": {},
   "outputs": [],
   "source": [
    "# Here we will perform the chi2_contingency test\n",
    "# For that first we need to make a crosstab betwwen the given two variables\n",
    "data=pd.crosstab(df.network,df.network_type) # Required crosstab"
   ]
  },
  {
   "cell_type": "code",
   "execution_count": 65,
   "id": "9bcfba7a-f925-4766-9855-7c8517b69a4c",
   "metadata": {},
   "outputs": [
    {
     "data": {
      "text/plain": [
       "0.0"
      ]
     },
     "execution_count": 65,
     "metadata": {},
     "output_type": "execute_result"
    }
   ],
   "source": [
    "# Null Hypothesis: network and network_type have no relation\n",
    "# Alternate Hypothesis: network and network_type have a relation\n",
    "# Now we will extract the pvalue from chi2_contingency test\n",
    "test_statistic,pvalue,dof,exp=stats.chi2_contingency(data)\n",
    "pvalue"
   ]
  },
  {
   "cell_type": "code",
   "execution_count": 66,
   "id": "f479887a-f3f7-4852-97b1-9b4ed98e5ecf",
   "metadata": {},
   "outputs": [],
   "source": [
    "# From the above test we get a pvalue of 0\n",
    "# Hence we have reject our null hypothesis and hold the alternative hypothesis as true\n",
    "# Thus we conclude that network and network_type have a relation"
   ]
  }
 ],
 "metadata": {
  "kernelspec": {
   "display_name": "Python 3 (ipykernel)",
   "language": "python",
   "name": "python3"
  },
  "language_info": {
   "codemirror_mode": {
    "name": "ipython",
    "version": 3
   },
   "file_extension": ".py",
   "mimetype": "text/x-python",
   "name": "python",
   "nbconvert_exporter": "python",
   "pygments_lexer": "ipython3",
   "version": "3.9.7"
  }
 },
 "nbformat": 4,
 "nbformat_minor": 5
}
