{
 "cells": [
  {
   "cell_type": "code",
   "execution_count": null,
   "id": "b858cd75",
   "metadata": {},
   "outputs": [],
   "source": [
    "#Q1. Create a Dictionary of lists to store the information of shipments given in the table"
   ]
  },
  {
   "cell_type": "code",
   "execution_count": 1,
   "id": "6f7af142",
   "metadata": {},
   "outputs": [
    {
     "data": {
      "text/plain": [
       "{'ShipmentID': [101, 102, 103, 104, 105, 106],\n",
       " 'Sender': [1, 4, 2, 1, 3, 5],\n",
       " 'Receiver': [3, 1, 3, 5, 4, 2],\n",
       " 'Start-Date': ['14-03-2020',\n",
       "  '18-06-2020',\n",
       "  '01-12-2020',\n",
       "  '23-06-2020',\n",
       "  '29-08-2020',\n",
       "  '28-06-2020'],\n",
       " 'Delivery-Date': ['25-03-2020',\n",
       "  '09-07-2020',\n",
       "  'Null',\n",
       "  '25-06-2020',\n",
       "  '10-09-2020',\n",
       "  'Null'],\n",
       " 'Sender_location': ['Area1', 'Area2', 'Area5', 'Area1', 'Area5', 'Area3'],\n",
       " 'Receiver_location': ['Area6', 'Area4', 'Area1', 'Area4', 'Area3', 'Area1'],\n",
       " 'Delivery_status': ['Delivered',\n",
       "  'Delivered',\n",
       "  'In-Transit',\n",
       "  'Delivered',\n",
       "  'Delivered',\n",
       "  'In-Transit'],\n",
       " 'Shipping_cost': [198, 275, 200, 314, 275, 270]}"
      ]
     },
     "execution_count": 1,
     "metadata": {},
     "output_type": "execute_result"
    }
   ],
   "source": [
    "shipment={'ShipmentID':[101,102,103,104,105,106],'Sender':[1,4,2,1,3,5],'Receiver':[3,1,3,5,4,2],\n",
    "          'Start-Date':['14-03-2020','18-06-2020','01-12-2020','23-06-2020','29-08-2020','28-06-2020'],\n",
    "          'Delivery-Date':['25-03-2020','09-07-2020','Null','25-06-2020','10-09-2020','Null'],\n",
    "          'Sender_location':['Area1','Area2','Area5','Area1','Area5','Area3'],\n",
    "          'Receiver_location':['Area6','Area4','Area1','Area4','Area3','Area1'],\n",
    "          'Delivery_status':['Delivered','Delivered','In-Transit','Delivered','Delivered','In-Transit',],\n",
    "          'Shipping_cost':[198,275,200,314,275,270,]}\n",
    "shipment"
   ]
  },
  {
   "cell_type": "code",
   "execution_count": 2,
   "id": "fd75f854",
   "metadata": {},
   "outputs": [],
   "source": [
    "#Q2. Create a Dictionary of to store the information of clients given in the table."
   ]
  },
  {
   "cell_type": "code",
   "execution_count": 8,
   "id": "399975e4",
   "metadata": {},
   "outputs": [
    {
     "data": {
      "text/plain": [
       "{'Client_id': [1, 2, 3, 4, 5],\n",
       " 'Client_name': ['Philip', 'Omega III', 'Ramya', 'Romesh', 'John']}"
      ]
     },
     "execution_count": 8,
     "metadata": {},
     "output_type": "execute_result"
    }
   ],
   "source": [
    "clients={'Client_id':[1,2,3,4,5],'Client_name':['Philip','Omega III','Ramya','Romesh','John']}\n",
    "clients"
   ]
  },
  {
   "cell_type": "code",
   "execution_count": 2,
   "id": "f0851cba",
   "metadata": {},
   "outputs": [],
   "source": [
    "#Q3. Write a code to replace client’s id with their respective name in shipment dictionary using a loop and dictionary comprehension."
   ]
  },
  {
   "cell_type": "code",
   "execution_count": 10,
   "id": "e4ab9999",
   "metadata": {},
   "outputs": [
    {
     "data": {
      "text/plain": [
       "{'ShipmentID': [101, 102, 103, 104, 105, 106],\n",
       " 'Sender': ['Philip', 'Romesh', 'Omega III', 'Philip', 'Ramya', 'John'],\n",
       " 'Receiver': ['Ramya', 'Philip', 'Ramya', 'John', 'Romesh', 'Omega III'],\n",
       " 'Start-Date': ['14-03-2020',\n",
       "  '18-06-2020',\n",
       "  '01-12-2020',\n",
       "  '23-06-2020',\n",
       "  '29-08-2020',\n",
       "  '28-06-2020'],\n",
       " 'Delivery-Date': ['25-03-2020',\n",
       "  '09-07-2020',\n",
       "  'Null',\n",
       "  '25-06-2020',\n",
       "  '10-09-2020',\n",
       "  'Null'],\n",
       " 'Sender_location': ['Area1', 'Area2', 'Area5', 'Area1', 'Area5', 'Area3'],\n",
       " 'Receiver_location': ['Area6', 'Area4', 'Area1', 'Area4', 'Area3', 'Area1'],\n",
       " 'Delivery_status': ['Delivered',\n",
       "  'Delivered',\n",
       "  'In-Transit',\n",
       "  'Delivered',\n",
       "  'Delivered',\n",
       "  'In-Transit'],\n",
       " 'Shipping_cost': [198, 275, 200, 314, 275, 270]}"
      ]
     },
     "execution_count": 10,
     "metadata": {},
     "output_type": "execute_result"
    }
   ],
   "source": [
    "for i in range(0,len(shipment['Sender'])):\n",
    "    for j in clients['Client_id']:\n",
    "        if shipment['Sender'][i]==j:\n",
    "            shipment['Sender'][i]=clients['Client_name'][j-1]\n",
    "        if shipment['Receiver'][i]==j:\n",
    "            shipment['Receiver'][i]=clients['Client_name'][j-1]\n",
    "shipment"
   ]
  },
  {
   "cell_type": "code",
   "execution_count": null,
   "id": "71949067",
   "metadata": {},
   "outputs": [],
   "source": [
    "#Q4. Print all shipment details that are sent by Phillip"
   ]
  },
  {
   "cell_type": "code",
   "execution_count": 11,
   "id": "20e0a5f6",
   "metadata": {},
   "outputs": [
    {
     "name": "stdout",
     "output_type": "stream",
     "text": [
      "Shipment details are:\n",
      "ShipmentID : 101\n",
      "Sender : Philip\n",
      "Receiver : Ramya\n",
      "Start-Date : 14-03-2020\n",
      "Delivery-Date : 25-03-2020\n",
      "Sender_location : Area1\n",
      "Receiver_location : Area6\n",
      "Delivery_status : Delivered\n",
      "Shipping_cost : 198\n",
      "\n",
      "Shipment details are:\n",
      "ShipmentID : 104\n",
      "Sender : Philip\n",
      "Receiver : John\n",
      "Start-Date : 23-06-2020\n",
      "Delivery-Date : 25-06-2020\n",
      "Sender_location : Area1\n",
      "Receiver_location : Area4\n",
      "Delivery_status : Delivered\n",
      "Shipping_cost : 314\n",
      "\n"
     ]
    }
   ],
   "source": [
    "for i in range(0,len(shipment['Sender'])):\n",
    "    if shipment['Sender'][i]=='Philip':\n",
    "        print('Shipment details are:')\n",
    "        for j in shipment:\n",
    "            print(j,\":\",shipment[j][i])\n",
    "        print()"
   ]
  },
  {
   "cell_type": "code",
   "execution_count": null,
   "id": "0c218a3a",
   "metadata": {},
   "outputs": [],
   "source": [
    "#Q5. Print all shipment details that are received by Ramya"
   ]
  },
  {
   "cell_type": "code",
   "execution_count": 12,
   "id": "59d16388",
   "metadata": {},
   "outputs": [
    {
     "name": "stdout",
     "output_type": "stream",
     "text": [
      "Shipment details are:\n",
      "ShipmentID : 101\n",
      "Sender : Philip\n",
      "Receiver : Ramya\n",
      "Start-Date : 14-03-2020\n",
      "Delivery-Date : 25-03-2020\n",
      "Sender_location : Area1\n",
      "Receiver_location : Area6\n",
      "Delivery_status : Delivered\n",
      "Shipping_cost : 198\n",
      "\n",
      "Shipment details are:\n",
      "ShipmentID : 103\n",
      "Sender : Omega III\n",
      "Receiver : Ramya\n",
      "Start-Date : 01-12-2020\n",
      "Delivery-Date : Null\n",
      "Sender_location : Area5\n",
      "Receiver_location : Area1\n",
      "Delivery_status : In-Transit\n",
      "Shipping_cost : 200\n",
      "\n"
     ]
    }
   ],
   "source": [
    "for i in range(0,len(shipment['Receiver'])):\n",
    "    if shipment['Receiver'][i]=='Ramya':\n",
    "        print('Shipment details are:')\n",
    "        for j in shipment:\n",
    "            print(j,\":\",shipment[j][i])\n",
    "        print()"
   ]
  },
  {
   "cell_type": "code",
   "execution_count": null,
   "id": "ebc8a43e",
   "metadata": {},
   "outputs": [],
   "source": [
    "#Q6. Print all shipments which are in 'In-Transit' status"
   ]
  },
  {
   "cell_type": "code",
   "execution_count": 13,
   "id": "18399cfd",
   "metadata": {},
   "outputs": [
    {
     "name": "stdout",
     "output_type": "stream",
     "text": [
      "Shipment details are:\n",
      "ShipmentID : 103\n",
      "Sender : Omega III\n",
      "Receiver : Ramya\n",
      "Start-Date : 01-12-2020\n",
      "Delivery-Date : Null\n",
      "Sender_location : Area5\n",
      "Receiver_location : Area1\n",
      "Delivery_status : In-Transit\n",
      "Shipping_cost : 200\n",
      "\n",
      "Shipment details are:\n",
      "ShipmentID : 106\n",
      "Sender : John\n",
      "Receiver : Omega III\n",
      "Start-Date : 28-06-2020\n",
      "Delivery-Date : Null\n",
      "Sender_location : Area3\n",
      "Receiver_location : Area1\n",
      "Delivery_status : In-Transit\n",
      "Shipping_cost : 270\n",
      "\n"
     ]
    }
   ],
   "source": [
    "for i in range(0,len(shipment['Delivery_status'])):\n",
    "    if shipment['Delivery_status'][i]=='In-Transit':\n",
    "        print('Shipment details are:')\n",
    "        for j in shipment:\n",
    "            print(j,\":\",shipment[j][i])\n",
    "        print()"
   ]
  },
  {
   "cell_type": "code",
   "execution_count": null,
   "id": "17e17235",
   "metadata": {},
   "outputs": [],
   "source": [
    "#Q7. Print all shipments which are delivered within 7 days of courier Start date"
   ]
  },
  {
   "cell_type": "code",
   "execution_count": 14,
   "id": "1746f873",
   "metadata": {},
   "outputs": [
    {
     "name": "stdout",
     "output_type": "stream",
     "text": [
      "Shipment details are:\n",
      "ShipmentID : 104\n",
      "Sender : Philip\n",
      "Receiver : John\n",
      "Start-Date : 23-06-2020\n",
      "Delivery-Date : 25-06-2020\n",
      "Sender_location : Area1\n",
      "Receiver_location : Area4\n",
      "Delivery_status : Delivered\n",
      "Shipping_cost : 314\n",
      "\n"
     ]
    }
   ],
   "source": [
    "from datetime import datetime\n",
    "for i in range(0,len(shipment['Delivery-Date'])):\n",
    "    if shipment['Delivery-Date'][i] != 'Null':\n",
    "        if (datetime.strptime(shipment['Delivery-Date'][i],'%d-%m-%Y')-datetime.strptime(shipment['Start-Date'][i],'%d-%m-%Y')).days<=7 :\n",
    "            print('Shipment details are:')\n",
    "            for j in shipment:\n",
    "                print(j,\":\",shipment[j][i])\n",
    "            print()"
   ]
  },
  {
   "cell_type": "code",
   "execution_count": null,
   "id": "aae24120",
   "metadata": {},
   "outputs": [],
   "source": [
    "#Q8. Print all shipments which are delivered after 15 days of courier start date or not yet been delivered."
   ]
  },
  {
   "cell_type": "code",
   "execution_count": 15,
   "id": "1765eeeb",
   "metadata": {},
   "outputs": [
    {
     "name": "stdout",
     "output_type": "stream",
     "text": [
      "Shipment details are:\n",
      "ShipmentID : 102\n",
      "Sender : Romesh\n",
      "Receiver : Philip\n",
      "Start-Date : 18-06-2020\n",
      "Delivery-Date : 09-07-2020\n",
      "Sender_location : Area2\n",
      "Receiver_location : Area4\n",
      "Delivery_status : Delivered\n",
      "Shipping_cost : 275\n",
      "\n",
      "Not Delivered Shipment details are:\n",
      "ShipmentID : 103\n",
      "Sender : Omega III\n",
      "Receiver : Ramya\n",
      "Start-Date : 01-12-2020\n",
      "Delivery-Date : Null\n",
      "Sender_location : Area5\n",
      "Receiver_location : Area1\n",
      "Delivery_status : In-Transit\n",
      "Shipping_cost : 200\n",
      "\n",
      "Not Delivered Shipment details are:\n",
      "ShipmentID : 106\n",
      "Sender : John\n",
      "Receiver : Omega III\n",
      "Start-Date : 28-06-2020\n",
      "Delivery-Date : Null\n",
      "Sender_location : Area3\n",
      "Receiver_location : Area1\n",
      "Delivery_status : In-Transit\n",
      "Shipping_cost : 270\n",
      "\n"
     ]
    }
   ],
   "source": [
    "from datetime import datetime\n",
    "for i in range(0,len(shipment['Delivery-Date'])):\n",
    "    if shipment['Delivery-Date'][i] != 'Null':\n",
    "        if (datetime.strptime(shipment['Delivery-Date'][i],'%d-%m-%Y')-datetime.strptime(shipment['Start-Date'][i],'%d-%m-%Y')).days>15 :\n",
    "            print('Shipment details are:')\n",
    "            for j in shipment:\n",
    "                print(j,\":\",shipment[j][i])\n",
    "            print()\n",
    "    else:\n",
    "        print('Not Delivered Shipment details are:')\n",
    "        for j in shipment:\n",
    "            print(j,\":\",shipment[j][i])\n",
    "        print()"
   ]
  },
  {
   "cell_type": "code",
   "execution_count": null,
   "id": "ab41fd77",
   "metadata": {},
   "outputs": [],
   "source": [
    "#Q9. Write a function find_all_routes to display all possible routes from senders location to receivers location given in the dictionary for each shipment.¶"
   ]
  },
  {
   "cell_type": "code",
   "execution_count": 18,
   "id": "c790fbd0",
   "metadata": {},
   "outputs": [
    {
     "data": {
      "image/png": "[encoded data removed]",
      "text/plain": [
       "<Figure size 432x288 with 1 Axes>"
      ]
     },
     "metadata": {},
     "output_type": "display_data"
    }
   ],
   "source": [
    "import networkx as nx \n",
    "import numpy as np \n",
    "def find_all_routes(A):\n",
    "    G=nx.from_numpy_matrix(np.array(A))  \n",
    "    nx.draw_networkx(G, with_labels=True)\n",
    "A  =  [[0,  1,  0,  0,  0, 1],\n",
    "       [1,  0, 1,  1,  0, 0], \n",
    "       [0, 1,  0,  1, 0, 0], \n",
    "       [0,  1,  1,  0, 1, 0], \n",
    "       [0,  0, 0, 1,  0, 0], \n",
    "       [1,  0,  0,  0,  0, 0]] \n",
    "find_all_routes(A)"
   ]
  },
  {
   "cell_type": "code",
   "execution_count": null,
   "id": "f74312a8",
   "metadata": {},
   "outputs": [],
   "source": []
  }
 ],
 "metadata": {
  "kernelspec": {
   "display_name": "Python 3 (ipykernel)",
   "language": "python",
   "name": "python3"
  },
  "language_info": {
   "codemirror_mode": {
    "name": "ipython",
    "version": 3
   },
   "file_extension": ".py",
   "mimetype": "text/x-python",
   "name": "python",
   "nbconvert_exporter": "python",
   "pygments_lexer": "ipython3",
   "version": "3.9.7"
  }
 },
 "nbformat": 4,
 "nbformat_minor": 5
}
